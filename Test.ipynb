{
  "cells": [
    {
      "cell_type": "code",
      "execution_count": null,
      "id": "4bf05aa4",
      "metadata": {
        "id": "4bf05aa4"
      },
      "outputs": [],
      "source": [
        "######\n",
        "# 종속 패키지(dependencies) 설치\n",
        "!pip install -U torch torchvision cython\n",
        "!pip install -U 'git+https://github.com/facebookresearch/fvcore.git' 'git+https://github.com/cocodataset/cocoapi.git#subdirectory=PythonAPI'\n",
        "import torch, torchvision\n",
        "torch.__version__\n",
        "\n",
        "!git clone https://github.com/facebookresearch/detectron2 detectron2_repo\n",
        "!pip install -e detectron2_repo"
      ]
    },
    {
      "cell_type": "code",
      "execution_count": 1,
      "id": "522013d5",
      "metadata": {
        "id": "522013d5"
      },
      "outputs": [],
      "source": [
        "# 인스톨이 완료되면 Colab Runtime을 다시 시작해주세요. \n",
        "\n",
        "# 기본 설정\n",
        "# detectron2 logger 설정\n",
        "import detectron2\n",
        "from detectron2.utils.logger import setup_logger\n",
        "setup_logger()\n",
        "\n",
        "# 자주 사용하는 라이브러리 임폴트\n",
        "import numpy as np\n",
        "import cv2\n",
        "import random\n",
        "from google.colab.patches import cv2_imshow\n",
        "\n",
        "# 자주 사용하는 detectron2 유틸 임폴트 \n",
        "from detectron2.engine import DefaultPredictor\n",
        "from detectron2.config import get_cfg\n",
        "from detectron2.utils.visualizer import Visualizer\n",
        "from detectron2.data import MetadataCatalog"
      ]
    },
    {
      "cell_type": "code",
      "source": [
        "!wget https://raw.githubusercontent.com/parksunny94/AI_JUMPUP/main/annotations.json"
      ],
      "metadata": {
        "id": "wy2zmltZx6_A",
        "outputId": "657f5816-8bd6-4c13-d364-f2eba4cdcb9a",
        "colab": {
          "base_uri": "https://localhost:8080/"
        }
      },
      "id": "wy2zmltZx6_A",
      "execution_count": 6,
      "outputs": [
        {
          "output_type": "stream",
          "name": "stdout",
          "text": [
            "--2022-09-20 07:32:55--  https://raw.githubusercontent.com/parksunny94/AI_JUMPUP/main/annotations.json\n",
            "Resolving raw.githubusercontent.com (raw.githubusercontent.com)... 185.199.108.133, 185.199.109.133, 185.199.110.133, ...\n",
            "Connecting to raw.githubusercontent.com (raw.githubusercontent.com)|185.199.108.133|:443... connected.\n",
            "HTTP request sent, awaiting response... 200 OK\n",
            "Length: 54419 (53K) [text/plain]\n",
            "Saving to: ‘annotations.json’\n",
            "\n",
            "annotations.json    100%[===================>]  53.14K  --.-KB/s    in 0.01s   \n",
            "\n",
            "2022-09-20 07:32:55 (4.90 MB/s) - ‘annotations.json’ saved [54419/54419]\n",
            "\n"
          ]
        }
      ]
    },
    {
      "cell_type": "code",
      "execution_count": 9,
      "id": "cfdd5ddc",
      "metadata": {
        "id": "cfdd5ddc"
      },
      "outputs": [],
      "source": [
        "# 데이터를 불러와서 압축을 해제합니다.\n",
        "#!wget https://github.com/matterport/Mask_RCNN/releases/download/v2.1/balloon_dataset.zip\n",
        "#!unzip balloon_dataset.zip > /dev/null\n",
        "\n",
        "import os\n",
        "import numpy as np\n",
        "import json\n",
        "from detectron2.structures import BoxMode\n",
        "import itertools\n",
        "\n",
        "# detectron2에서 데이터셋 정보를 로드하는 형식에 맞춰 함수를 작성합니다.\n",
        "def get_balloon_dicts(img_dir):\n",
        "    json_file = os.path.join(img_dir, \"annotations.json\")\n",
        "    with open(json_file) as f:\n",
        "        imgs_anns = json.load(f)\n",
        "\n",
        "    dataset_dicts = []\n",
        "    for idx, v in enumerate(imgs_anns.values()):\n",
        "        record = {}\n",
        "        \n",
        "        filename = os.path.join(img_dir, v[\"filename\"])\n",
        "        height, width = cv2.imread(filename).shape[:2]\n",
        "        \n",
        "        record[\"file_name\"] = filename\n",
        "        record[\"image_id\"] = idx\n",
        "        record[\"height\"] = height\n",
        "        record[\"width\"] = width\n",
        "      \n",
        "        annos = v[\"instances\"]\n",
        "        objs = []\n",
        "        for anno in annos:\n",
        "            anno = anno[\"points\"]\n",
        "            #px = anno[\"all_points_x\"]\n",
        "            #py = anno[\"all_points_y\"]\n",
        "\t\t\t\n",
        "            for i in len(anno):\n",
        "              px = anno[i]\n",
        "              py = anno[i+1]\n",
        "\t\t\t\n",
        "            poly = [(x + 0.5, y + 0.5) for x, y in zip(px, py)]\n",
        "            poly = list(itertools.chain.from_iterable(poly))\n",
        "\n",
        "            obj = {\n",
        "                \"bbox\": [np.min(px), np.min(py), np.max(px), np.max(py)],\n",
        "                \"bbox_mode\": BoxMode.XYXY_ABS,\n",
        "                \"segmentation\": [poly],\n",
        "                \"category_id\": 0,\n",
        "                \"iscrowd\": 0\n",
        "            }\n",
        "            objs.append(obj)\n",
        "        record[\"annotations\"] = objs\n",
        "        dataset_dicts.append(record)\n",
        "    return dataset_dicts\n",
        "\n",
        "from detectron2.data import DatasetCatalog, MetadataCatalog\n",
        "for d in [\"train\", \"val\"]:\n",
        "    DatasetCatalog.register(\"balloon_\" + d, lambda d=d: get_balloon_dicts(\"balloon/\" + d))\n",
        "    MetadataCatalog.get(\"balloon_\" + d).set(thing_classes=[\"balloon\"])\n",
        "balloon_metadata = MetadataCatalog.get(\"balloon_train\")"
      ]
    }
  ],
  "metadata": {
    "kernelspec": {
      "display_name": "Python 3 (ipykernel)",
      "language": "python",
      "name": "python3"
    },
    "language_info": {
      "codemirror_mode": {
        "name": "ipython",
        "version": 3
      },
      "file_extension": ".py",
      "mimetype": "text/x-python",
      "name": "python",
      "nbconvert_exporter": "python",
      "pygments_lexer": "ipython3",
      "version": "3.9.12"
    },
    "toc": {
      "base_numbering": 1,
      "nav_menu": {},
      "number_sections": true,
      "sideBar": true,
      "skip_h1_title": false,
      "title_cell": "Table of Contents",
      "title_sidebar": "Contents",
      "toc_cell": false,
      "toc_position": {},
      "toc_section_display": true,
      "toc_window_display": false
    },
    "colab": {
      "provenance": []
    }
  },
  "nbformat": 4,
  "nbformat_minor": 5
}