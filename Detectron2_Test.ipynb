{
  "cells": [
    {
      "cell_type": "markdown",
      "source": [
        "# (1) 종속 패키지 설치하기"
      ],
      "metadata": {
        "id": "nM7Ls7VVWC-A"
      },
      "id": "nM7Ls7VVWC-A"
    },
    {
      "cell_type": "code",
      "execution_count": 1,
      "id": "689575e8",
      "metadata": {
        "id": "689575e8",
        "outputId": "48c49de3-1d08-473d-e56f-6acb26c15e26",
        "colab": {
          "base_uri": "https://localhost:8080/",
          "height": 1000
        }
      },
      "outputs": [
        {
          "output_type": "stream",
          "name": "stdout",
          "text": [
            "Looking in indexes: https://pypi.org/simple, https://us-python.pkg.dev/colab-wheels/public/simple/\n",
            "Requirement already satisfied: torch in /usr/local/lib/python3.7/dist-packages (1.12.1+cu113)\n",
            "Requirement already satisfied: torchvision in /usr/local/lib/python3.7/dist-packages (0.13.1+cu113)\n",
            "Requirement already satisfied: cython in /usr/local/lib/python3.7/dist-packages (0.29.32)\n",
            "Requirement already satisfied: typing-extensions in /usr/local/lib/python3.7/dist-packages (from torch) (4.1.1)\n",
            "Requirement already satisfied: pillow!=8.3.*,>=5.3.0 in /usr/local/lib/python3.7/dist-packages (from torchvision) (7.1.2)\n",
            "Requirement already satisfied: requests in /usr/local/lib/python3.7/dist-packages (from torchvision) (2.23.0)\n",
            "Requirement already satisfied: numpy in /usr/local/lib/python3.7/dist-packages (from torchvision) (1.21.6)\n",
            "Requirement already satisfied: certifi>=2017.4.17 in /usr/local/lib/python3.7/dist-packages (from requests->torchvision) (2022.6.15)\n",
            "Requirement already satisfied: idna<3,>=2.5 in /usr/local/lib/python3.7/dist-packages (from requests->torchvision) (2.10)\n",
            "Requirement already satisfied: urllib3!=1.25.0,!=1.25.1,<1.26,>=1.21.1 in /usr/local/lib/python3.7/dist-packages (from requests->torchvision) (1.24.3)\n",
            "Requirement already satisfied: chardet<4,>=3.0.2 in /usr/local/lib/python3.7/dist-packages (from requests->torchvision) (3.0.4)\n",
            "Looking in indexes: https://pypi.org/simple, https://us-python.pkg.dev/colab-wheels/public/simple/\n",
            "Collecting git+https://github.com/facebookresearch/fvcore.git\n",
            "  Cloning https://github.com/facebookresearch/fvcore.git to /tmp/pip-req-build-k7yy737p\n",
            "  Running command git clone -q https://github.com/facebookresearch/fvcore.git /tmp/pip-req-build-k7yy737p\n",
            "Collecting git+https://github.com/cocodataset/cocoapi.git#subdirectory=PythonAPI\n",
            "  Cloning https://github.com/cocodataset/cocoapi.git to /tmp/pip-req-build-xvg397ft\n",
            "  Running command git clone -q https://github.com/cocodataset/cocoapi.git /tmp/pip-req-build-xvg397ft\n",
            "Requirement already satisfied: numpy in /usr/local/lib/python3.7/dist-packages (from fvcore==0.1.5) (1.21.6)\n",
            "Collecting yacs>=0.1.6\n",
            "  Downloading yacs-0.1.8-py3-none-any.whl (14 kB)\n",
            "Requirement already satisfied: pyyaml>=5.1 in /usr/local/lib/python3.7/dist-packages (from fvcore==0.1.5) (6.0)\n",
            "Requirement already satisfied: tqdm in /usr/local/lib/python3.7/dist-packages (from fvcore==0.1.5) (4.64.1)\n",
            "Requirement already satisfied: termcolor>=1.1 in /usr/local/lib/python3.7/dist-packages (from fvcore==0.1.5) (1.1.0)\n",
            "Requirement already satisfied: Pillow in /usr/local/lib/python3.7/dist-packages (from fvcore==0.1.5) (7.1.2)\n",
            "Requirement already satisfied: tabulate in /usr/local/lib/python3.7/dist-packages (from fvcore==0.1.5) (0.8.10)\n",
            "Collecting iopath>=0.1.7\n",
            "  Downloading iopath-0.1.10.tar.gz (42 kB)\n",
            "\u001b[K     |████████████████████████████████| 42 kB 968 kB/s \n",
            "\u001b[?25hRequirement already satisfied: setuptools>=18.0 in /usr/local/lib/python3.7/dist-packages (from pycocotools==2.0) (57.4.0)\n",
            "Requirement already satisfied: cython>=0.27.3 in /usr/local/lib/python3.7/dist-packages (from pycocotools==2.0) (0.29.32)\n",
            "Requirement already satisfied: matplotlib>=2.1.0 in /usr/local/lib/python3.7/dist-packages (from pycocotools==2.0) (3.2.2)\n",
            "Requirement already satisfied: typing_extensions in /usr/local/lib/python3.7/dist-packages (from iopath>=0.1.7->fvcore==0.1.5) (4.1.1)\n",
            "Collecting portalocker\n",
            "  Downloading portalocker-2.5.1-py2.py3-none-any.whl (15 kB)\n",
            "Requirement already satisfied: cycler>=0.10 in /usr/local/lib/python3.7/dist-packages (from matplotlib>=2.1.0->pycocotools==2.0) (0.11.0)\n",
            "Requirement already satisfied: pyparsing!=2.0.4,!=2.1.2,!=2.1.6,>=2.0.1 in /usr/local/lib/python3.7/dist-packages (from matplotlib>=2.1.0->pycocotools==2.0) (3.0.9)\n",
            "Requirement already satisfied: python-dateutil>=2.1 in /usr/local/lib/python3.7/dist-packages (from matplotlib>=2.1.0->pycocotools==2.0) (2.8.2)\n",
            "Requirement already satisfied: kiwisolver>=1.0.1 in /usr/local/lib/python3.7/dist-packages (from matplotlib>=2.1.0->pycocotools==2.0) (1.4.4)\n",
            "Requirement already satisfied: six>=1.5 in /usr/local/lib/python3.7/dist-packages (from python-dateutil>=2.1->matplotlib>=2.1.0->pycocotools==2.0) (1.15.0)\n",
            "Building wheels for collected packages: fvcore, pycocotools, iopath\n",
            "  Building wheel for fvcore (setup.py) ... \u001b[?25l\u001b[?25hdone\n",
            "  Created wheel for fvcore: filename=fvcore-0.1.5-py3-none-any.whl size=65332 sha256=71d737780181b1c23294ebd5f8d15e9c8ffb5bc2d441b572111a6a653d7fc90c\n",
            "  Stored in directory: /tmp/pip-ephem-wheel-cache-scq0nxry/wheels/24/1d/09/8167de727fe5b74f832b6fcb5d9069d8f03ca29f337bfe484d\n",
            "  Building wheel for pycocotools (setup.py) ... \u001b[?25l\u001b[?25hdone\n",
            "  Created wheel for pycocotools: filename=pycocotools-2.0-cp37-cp37m-linux_x86_64.whl size=265193 sha256=aa69045e1e82c61cb86ad570ec38828beea638351d93921a044e078dc4441f4b\n",
            "  Stored in directory: /tmp/pip-ephem-wheel-cache-scq0nxry/wheels/e2/6b/1d/344ac773c7495ea0b85eb228bc66daec7400a143a92d36b7b1\n",
            "  Building wheel for iopath (setup.py) ... \u001b[?25l\u001b[?25hdone\n",
            "  Created wheel for iopath: filename=iopath-0.1.10-py3-none-any.whl size=31549 sha256=ae3f0a14de5fe079d36635525ffb926d1f2ad258dae95a6f65ff0c14a838183a\n",
            "  Stored in directory: /root/.cache/pip/wheels/aa/cc/ed/ca4e88beef656b01c84b9185196513ef2faf74a5a379b043a7\n",
            "Successfully built fvcore pycocotools iopath\n",
            "Installing collected packages: portalocker, yacs, iopath, pycocotools, fvcore\n",
            "  Attempting uninstall: pycocotools\n",
            "    Found existing installation: pycocotools 2.0.4\n",
            "    Uninstalling pycocotools-2.0.4:\n",
            "      Successfully uninstalled pycocotools-2.0.4\n",
            "Successfully installed fvcore-0.1.5 iopath-0.1.10 portalocker-2.5.1 pycocotools-2.0 yacs-0.1.8\n",
            "Cloning into 'detectron2_repo'...\n",
            "remote: Enumerating objects: 14545, done.\u001b[K\n",
            "remote: Counting objects: 100% (23/23), done.\u001b[K\n",
            "remote: Compressing objects: 100% (20/20), done.\u001b[K\n",
            "remote: Total 14545 (delta 6), reused 9 (delta 3), pack-reused 14522\u001b[K\n",
            "Receiving objects: 100% (14545/14545), 5.95 MiB | 12.94 MiB/s, done.\n",
            "Resolving deltas: 100% (10511/10511), done.\n",
            "Looking in indexes: https://pypi.org/simple, https://us-python.pkg.dev/colab-wheels/public/simple/\n",
            "Obtaining file:///content/detectron2_repo\n",
            "Requirement already satisfied: Pillow>=7.1 in /usr/local/lib/python3.7/dist-packages (from detectron2==0.6) (7.1.2)\n",
            "Requirement already satisfied: matplotlib in /usr/local/lib/python3.7/dist-packages (from detectron2==0.6) (3.2.2)\n",
            "Collecting pycocotools>=2.0.2\n",
            "  Downloading pycocotools-2.0.5.tar.gz (24 kB)\n",
            "  Installing build dependencies ... \u001b[?25l\u001b[?25hdone\n",
            "  Getting requirements to build wheel ... \u001b[?25l\u001b[?25hdone\n",
            "    Preparing wheel metadata ... \u001b[?25l\u001b[?25hdone\n",
            "Requirement already satisfied: termcolor>=1.1 in /usr/local/lib/python3.7/dist-packages (from detectron2==0.6) (1.1.0)\n",
            "Requirement already satisfied: yacs>=0.1.8 in /usr/local/lib/python3.7/dist-packages (from detectron2==0.6) (0.1.8)\n",
            "Requirement already satisfied: tabulate in /usr/local/lib/python3.7/dist-packages (from detectron2==0.6) (0.8.10)\n",
            "Requirement already satisfied: cloudpickle in /usr/local/lib/python3.7/dist-packages (from detectron2==0.6) (1.5.0)\n",
            "Requirement already satisfied: tqdm>4.29.0 in /usr/local/lib/python3.7/dist-packages (from detectron2==0.6) (4.64.1)\n",
            "Requirement already satisfied: tensorboard in /usr/local/lib/python3.7/dist-packages (from detectron2==0.6) (2.8.0)\n",
            "Requirement already satisfied: fvcore<0.1.6,>=0.1.5 in /usr/local/lib/python3.7/dist-packages (from detectron2==0.6) (0.1.5)\n",
            "Collecting iopath<0.1.10,>=0.1.7\n",
            "  Downloading iopath-0.1.9-py3-none-any.whl (27 kB)\n",
            "Requirement already satisfied: future in /usr/local/lib/python3.7/dist-packages (from detectron2==0.6) (0.16.0)\n",
            "Requirement already satisfied: pydot in /usr/local/lib/python3.7/dist-packages (from detectron2==0.6) (1.3.0)\n",
            "Collecting omegaconf>=2.1\n",
            "  Downloading omegaconf-2.2.3-py3-none-any.whl (79 kB)\n",
            "\u001b[K     |████████████████████████████████| 79 kB 215 kB/s \n",
            "\u001b[?25hCollecting hydra-core>=1.1\n",
            "  Downloading hydra_core-1.2.0-py3-none-any.whl (151 kB)\n",
            "\u001b[K     |████████████████████████████████| 151 kB 65.7 MB/s \n",
            "\u001b[?25hCollecting black==22.3.0\n",
            "  Downloading black-22.3.0-cp37-cp37m-manylinux_2_17_x86_64.manylinux2014_x86_64.whl (1.4 MB)\n",
            "\u001b[K     |████████████████████████████████| 1.4 MB 50.9 MB/s \n",
            "\u001b[?25hCollecting timm\n",
            "  Downloading timm-0.6.7-py3-none-any.whl (509 kB)\n",
            "\u001b[K     |████████████████████████████████| 509 kB 72.1 MB/s \n",
            "\u001b[?25hCollecting fairscale\n",
            "  Downloading fairscale-0.4.6.tar.gz (248 kB)\n",
            "\u001b[K     |████████████████████████████████| 248 kB 70.9 MB/s \n",
            "\u001b[?25h  Installing build dependencies ... \u001b[?25l\u001b[?25hdone\n",
            "  Getting requirements to build wheel ... \u001b[?25l\u001b[?25hdone\n",
            "  Installing backend dependencies ... \u001b[?25l\u001b[?25hdone\n",
            "    Preparing wheel metadata ... \u001b[?25l\u001b[?25hdone\n",
            "Requirement already satisfied: packaging in /usr/local/lib/python3.7/dist-packages (from detectron2==0.6) (21.3)\n",
            "Collecting typed-ast>=1.4.2\n",
            "  Downloading typed_ast-1.5.4-cp37-cp37m-manylinux_2_5_x86_64.manylinux1_x86_64.manylinux_2_12_x86_64.manylinux2010_x86_64.whl (843 kB)\n",
            "\u001b[K     |████████████████████████████████| 843 kB 52.3 MB/s \n",
            "\u001b[?25hCollecting pathspec>=0.9.0\n",
            "  Downloading pathspec-0.10.1-py3-none-any.whl (27 kB)\n",
            "Requirement already satisfied: typing-extensions>=3.10.0.0 in /usr/local/lib/python3.7/dist-packages (from black==22.3.0->detectron2==0.6) (4.1.1)\n",
            "Collecting click>=8.0.0\n",
            "  Downloading click-8.1.3-py3-none-any.whl (96 kB)\n",
            "\u001b[K     |████████████████████████████████| 96 kB 4.7 MB/s \n",
            "\u001b[?25hRequirement already satisfied: tomli>=1.1.0 in /usr/local/lib/python3.7/dist-packages (from black==22.3.0->detectron2==0.6) (2.0.1)\n",
            "Collecting platformdirs>=2\n",
            "  Downloading platformdirs-2.5.2-py3-none-any.whl (14 kB)\n",
            "Collecting mypy-extensions>=0.4.3\n",
            "  Downloading mypy_extensions-0.4.3-py2.py3-none-any.whl (4.5 kB)\n",
            "Requirement already satisfied: importlib-metadata in /usr/local/lib/python3.7/dist-packages (from click>=8.0.0->black==22.3.0->detectron2==0.6) (4.12.0)\n",
            "Requirement already satisfied: numpy in /usr/local/lib/python3.7/dist-packages (from fvcore<0.1.6,>=0.1.5->detectron2==0.6) (1.21.6)\n",
            "Requirement already satisfied: pyyaml>=5.1 in /usr/local/lib/python3.7/dist-packages (from fvcore<0.1.6,>=0.1.5->detectron2==0.6) (6.0)\n",
            "Requirement already satisfied: importlib-resources in /usr/local/lib/python3.7/dist-packages (from hydra-core>=1.1->detectron2==0.6) (5.9.0)\n",
            "Collecting antlr4-python3-runtime==4.9.*\n",
            "  Downloading antlr4-python3-runtime-4.9.3.tar.gz (117 kB)\n",
            "\u001b[K     |████████████████████████████████| 117 kB 72.1 MB/s \n",
            "\u001b[?25hRequirement already satisfied: portalocker in /usr/local/lib/python3.7/dist-packages (from iopath<0.1.10,>=0.1.7->detectron2==0.6) (2.5.1)\n",
            "Requirement already satisfied: kiwisolver>=1.0.1 in /usr/local/lib/python3.7/dist-packages (from matplotlib->detectron2==0.6) (1.4.4)\n",
            "Requirement already satisfied: cycler>=0.10 in /usr/local/lib/python3.7/dist-packages (from matplotlib->detectron2==0.6) (0.11.0)\n",
            "Requirement already satisfied: pyparsing!=2.0.4,!=2.1.2,!=2.1.6,>=2.0.1 in /usr/local/lib/python3.7/dist-packages (from matplotlib->detectron2==0.6) (3.0.9)\n",
            "Requirement already satisfied: python-dateutil>=2.1 in /usr/local/lib/python3.7/dist-packages (from matplotlib->detectron2==0.6) (2.8.2)\n",
            "Requirement already satisfied: six>=1.5 in /usr/local/lib/python3.7/dist-packages (from python-dateutil>=2.1->matplotlib->detectron2==0.6) (1.15.0)\n",
            "Requirement already satisfied: torch>=1.8.0 in /usr/local/lib/python3.7/dist-packages (from fairscale->detectron2==0.6) (1.12.1+cu113)\n",
            "Requirement already satisfied: zipp>=0.5 in /usr/local/lib/python3.7/dist-packages (from importlib-metadata->click>=8.0.0->black==22.3.0->detectron2==0.6) (3.8.1)\n",
            "Requirement already satisfied: absl-py>=0.4 in /usr/local/lib/python3.7/dist-packages (from tensorboard->detectron2==0.6) (1.2.0)\n",
            "Requirement already satisfied: werkzeug>=0.11.15 in /usr/local/lib/python3.7/dist-packages (from tensorboard->detectron2==0.6) (1.0.1)\n",
            "Requirement already satisfied: google-auth-oauthlib<0.5,>=0.4.1 in /usr/local/lib/python3.7/dist-packages (from tensorboard->detectron2==0.6) (0.4.6)\n",
            "Requirement already satisfied: tensorboard-plugin-wit>=1.6.0 in /usr/local/lib/python3.7/dist-packages (from tensorboard->detectron2==0.6) (1.8.1)\n",
            "Requirement already satisfied: grpcio>=1.24.3 in /usr/local/lib/python3.7/dist-packages (from tensorboard->detectron2==0.6) (1.48.1)\n",
            "Requirement already satisfied: tensorboard-data-server<0.7.0,>=0.6.0 in /usr/local/lib/python3.7/dist-packages (from tensorboard->detectron2==0.6) (0.6.1)\n",
            "Requirement already satisfied: setuptools>=41.0.0 in /usr/local/lib/python3.7/dist-packages (from tensorboard->detectron2==0.6) (57.4.0)\n",
            "Requirement already satisfied: requests<3,>=2.21.0 in /usr/local/lib/python3.7/dist-packages (from tensorboard->detectron2==0.6) (2.23.0)\n",
            "Requirement already satisfied: protobuf>=3.6.0 in /usr/local/lib/python3.7/dist-packages (from tensorboard->detectron2==0.6) (3.17.3)\n",
            "Requirement already satisfied: google-auth<3,>=1.6.3 in /usr/local/lib/python3.7/dist-packages (from tensorboard->detectron2==0.6) (1.35.0)\n",
            "Requirement already satisfied: markdown>=2.6.8 in /usr/local/lib/python3.7/dist-packages (from tensorboard->detectron2==0.6) (3.4.1)\n",
            "Requirement already satisfied: wheel>=0.26 in /usr/local/lib/python3.7/dist-packages (from tensorboard->detectron2==0.6) (0.37.1)\n",
            "Requirement already satisfied: rsa<5,>=3.1.4 in /usr/local/lib/python3.7/dist-packages (from google-auth<3,>=1.6.3->tensorboard->detectron2==0.6) (4.9)\n",
            "Requirement already satisfied: cachetools<5.0,>=2.0.0 in /usr/local/lib/python3.7/dist-packages (from google-auth<3,>=1.6.3->tensorboard->detectron2==0.6) (4.2.4)\n",
            "Requirement already satisfied: pyasn1-modules>=0.2.1 in /usr/local/lib/python3.7/dist-packages (from google-auth<3,>=1.6.3->tensorboard->detectron2==0.6) (0.2.8)\n",
            "Requirement already satisfied: requests-oauthlib>=0.7.0 in /usr/local/lib/python3.7/dist-packages (from google-auth-oauthlib<0.5,>=0.4.1->tensorboard->detectron2==0.6) (1.3.1)\n",
            "Requirement already satisfied: pyasn1<0.5.0,>=0.4.6 in /usr/local/lib/python3.7/dist-packages (from pyasn1-modules>=0.2.1->google-auth<3,>=1.6.3->tensorboard->detectron2==0.6) (0.4.8)\n",
            "Requirement already satisfied: chardet<4,>=3.0.2 in /usr/local/lib/python3.7/dist-packages (from requests<3,>=2.21.0->tensorboard->detectron2==0.6) (3.0.4)\n",
            "Requirement already satisfied: certifi>=2017.4.17 in /usr/local/lib/python3.7/dist-packages (from requests<3,>=2.21.0->tensorboard->detectron2==0.6) (2022.6.15)\n",
            "Requirement already satisfied: urllib3!=1.25.0,!=1.25.1,<1.26,>=1.21.1 in /usr/local/lib/python3.7/dist-packages (from requests<3,>=2.21.0->tensorboard->detectron2==0.6) (1.24.3)\n",
            "Requirement already satisfied: idna<3,>=2.5 in /usr/local/lib/python3.7/dist-packages (from requests<3,>=2.21.0->tensorboard->detectron2==0.6) (2.10)\n",
            "Requirement already satisfied: oauthlib>=3.0.0 in /usr/local/lib/python3.7/dist-packages (from requests-oauthlib>=0.7.0->google-auth-oauthlib<0.5,>=0.4.1->tensorboard->detectron2==0.6) (3.2.0)\n",
            "Requirement already satisfied: torchvision in /usr/local/lib/python3.7/dist-packages (from timm->detectron2==0.6) (0.13.1+cu113)\n",
            "Building wheels for collected packages: antlr4-python3-runtime, pycocotools, fairscale\n",
            "  Building wheel for antlr4-python3-runtime (setup.py) ... \u001b[?25l\u001b[?25hdone\n",
            "  Created wheel for antlr4-python3-runtime: filename=antlr4_python3_runtime-4.9.3-py3-none-any.whl size=144575 sha256=f0fe47ac030119b70c0fa86813ab24c7668ab89531ebc5b3546ba4b8c1f62b34\n",
            "  Stored in directory: /root/.cache/pip/wheels/8b/8d/53/2af8772d9aec614e3fc65e53d4a993ad73c61daa8bbd85a873\n",
            "  Building wheel for pycocotools (PEP 517) ... \u001b[?25l\u001b[?25hdone\n",
            "  Created wheel for pycocotools: filename=pycocotools-2.0.5-cp37-cp37m-linux_x86_64.whl size=266482 sha256=bdabeabc51066e4bc4d1094817e10d30c85bd46a4127fc69490dd26b5301d60b\n",
            "  Stored in directory: /root/.cache/pip/wheels/85/c4/f0/7128093a134f590e4383fd60cb484960878721d98b9a515317\n",
            "  Building wheel for fairscale (PEP 517) ... \u001b[?25l\u001b[?25hdone\n",
            "  Created wheel for fairscale: filename=fairscale-0.4.6-py3-none-any.whl size=307252 sha256=a697e59ad333b94bc1702ecdf0f3c3b387444ce1554fe1f904811b0740868f68\n",
            "  Stored in directory: /root/.cache/pip/wheels/4e/4f/0b/94c29ea06dfad93260cb0377855f87b7b863312317a7f69fe7\n",
            "Successfully built antlr4-python3-runtime pycocotools fairscale\n",
            "Installing collected packages: antlr4-python3-runtime, typed-ast, platformdirs, pathspec, omegaconf, mypy-extensions, iopath, click, timm, pycocotools, hydra-core, fairscale, black, detectron2\n",
            "  Attempting uninstall: iopath\n",
            "    Found existing installation: iopath 0.1.10\n",
            "    Uninstalling iopath-0.1.10:\n",
            "      Successfully uninstalled iopath-0.1.10\n",
            "  Attempting uninstall: click\n",
            "    Found existing installation: click 7.1.2\n",
            "    Uninstalling click-7.1.2:\n",
            "      Successfully uninstalled click-7.1.2\n",
            "  Attempting uninstall: pycocotools\n",
            "    Found existing installation: pycocotools 2.0\n",
            "    Uninstalling pycocotools-2.0:\n",
            "      Successfully uninstalled pycocotools-2.0\n",
            "  Running setup.py develop for detectron2\n",
            "\u001b[31mERROR: pip's dependency resolver does not currently take into account all the packages that are installed. This behaviour is the source of the following dependency conflicts.\n",
            "flask 1.1.4 requires click<8.0,>=5.1, but you have click 8.1.3 which is incompatible.\u001b[0m\n",
            "Successfully installed antlr4-python3-runtime-4.9.3 black-22.3.0 click-8.1.3 detectron2-0.6 fairscale-0.4.6 hydra-core-1.2.0 iopath-0.1.9 mypy-extensions-0.4.3 omegaconf-2.2.3 pathspec-0.10.1 platformdirs-2.5.2 pycocotools-2.0.5 timm-0.6.7 typed-ast-1.5.4\n"
          ]
        },
        {
          "output_type": "display_data",
          "data": {
            "application/vnd.colab-display-data+json": {
              "pip_warning": {
                "packages": [
                  "pydevd_plugins"
                ]
              }
            }
          },
          "metadata": {}
        }
      ],
      "source": [
        "# 종속 패키지(dependencies) 설치(pytorch, detectron2)\n",
        "!pip install -U torch torchvision cython\n",
        "!pip install -U 'git+https://github.com/facebookresearch/fvcore.git' 'git+https://github.com/cocodataset/cocoapi.git#subdirectory=PythonAPI'\n",
        "import torch, torchvision\n",
        "torch.__version__\n",
        "\n",
        "!git clone https://github.com/facebookresearch/detectron2 detectron2_repo\n",
        "!pip install -e detectron2_repo\n",
        "\n",
        "# 인스톨이 완료되면 Colab Runtime을 다시 시작해주세요. "
      ]
    },
    {
      "cell_type": "markdown",
      "source": [
        "## 패키지 설치가 완료되면 Colab Runtime을 다시 시작해주세요.\n",
        "> [런타임] - [런타임 다시 시작]\n",
        "\n"
      ],
      "metadata": {
        "id": "hcs2QoV7iwWh"
      },
      "id": "hcs2QoV7iwWh"
    },
    {
      "cell_type": "markdown",
      "source": [
        "# (2) 유틸 Import"
      ],
      "metadata": {
        "id": "rLm9rBiMWHhb"
      },
      "id": "rLm9rBiMWHhb"
    },
    {
      "cell_type": "code",
      "execution_count": null,
      "id": "1134cdea",
      "metadata": {
        "id": "1134cdea"
      },
      "outputs": [],
      "source": [
        "# 기본 설정\n",
        "import os\n",
        "import numpy as np\n",
        "import json\n",
        "from detectron2.structures import BoxMode\n",
        "import itertools\n",
        "from collections import OrderedDict\n",
        "\n",
        "# detectron2 logger 설정\n",
        "import detectron2\n",
        "from detectron2.utils.logger import setup_logger\n",
        "setup_logger()\n",
        "\n",
        "# 자주 사용하는 라이브러리 임폴트\n",
        "import numpy as np\n",
        "import cv2\n",
        "import random\n",
        "from google.colab.patches import cv2_imshow\n",
        "\n",
        "# 자주 사용하는 detectron2 유틸 임폴트 \n",
        "from detectron2.engine import DefaultPredictor\n",
        "from detectron2.config import get_cfg\n",
        "from detectron2.utils.visualizer import Visualizer\n",
        "from detectron2.data import MetadataCatalog\n",
        "from detectron2.data import DatasetCatalog, MetadataCatalog\n",
        "from detectron2.utils.visualizer import ColorMode\n",
        "from detectron2.engine import DefaultTrainer\n",
        "from detectron2.config import get_cfg"
      ]
    },
    {
      "cell_type": "markdown",
      "source": [
        "# (3) github에서 TRAIN, VAL data들 가져오기"
      ],
      "metadata": {
        "id": "ao0bfHsDWLzR"
      },
      "id": "ao0bfHsDWLzR"
    },
    {
      "cell_type": "code",
      "execution_count": null,
      "id": "fa7d124e",
      "metadata": {
        "id": "fa7d124e"
      },
      "outputs": [],
      "source": [
        "!git clone https://github.com/parksunny94/GCL_Image.git"
      ]
    },
    {
      "cell_type": "markdown",
      "source": [
        "## (3.1) 이미지 Resize(1/4)"
      ],
      "metadata": {
        "id": "Rk_BufByY6o6"
      },
      "id": "Rk_BufByY6o6"
    },
    {
      "cell_type": "code",
      "source": [
        "Resize_Rate = 4\n",
        "def resize_Image(img_dir):\n",
        "  json_file = os.path.join(img_dir, \"annotations.json\")\n",
        "  with open(json_file) as f:\n",
        "    imgs_anns = json.load(f)\n",
        "  \n",
        "  for key, val in imgs_anns.items():\n",
        "    filename = os.path.join(img_dir, key) # 이미지file 경로\n",
        "    img = cv2.imread(filename) # 이미지 읽어오기\n",
        "    img = cv2.resize(img,(0,0),fx=(1/Resize_Rate),fy=(1/Resize_Rate),interpolation=cv2.INTER_AREA) # 학습 이미지 Resize(1/4)\n",
        "    cv2.imwrite(filename,img) # Resize한 이미지 저장"
      ],
      "metadata": {
        "id": "lsVLZeyIYlts"
      },
      "id": "lsVLZeyIYlts",
      "execution_count": null,
      "outputs": []
    },
    {
      "cell_type": "code",
      "source": [
        "# TRAIN 폴더 내 이미지들 1/4로 Resize\n",
        "resize_Image(\"GCL_Image/TRAIN\")"
      ],
      "metadata": {
        "id": "U0oWySwZZxKc"
      },
      "id": "U0oWySwZZxKc",
      "execution_count": null,
      "outputs": []
    },
    {
      "cell_type": "code",
      "source": [
        "# VAL 폴더 내 이미지들 1/4로 Resize\n",
        "resize_Image(\"GCL_Image/VAL\")"
      ],
      "metadata": {
        "id": "NjXTNNRHZzlR"
      },
      "id": "NjXTNNRHZzlR",
      "execution_count": null,
      "outputs": []
    },
    {
      "cell_type": "markdown",
      "source": [
        "# (4) Detectron2에서 Data Set 정보를 로드하는 형식에 맞춰 함수를 작성하기"
      ],
      "metadata": {
        "id": "TC213Cv8WVfF"
      },
      "id": "TC213Cv8WVfF"
    },
    {
      "cell_type": "markdown",
      "source": [
        "> 이미지 경로에서 Data set 뽑는 함수"
      ],
      "metadata": {
        "id": "Py3W4Wt_M8eg"
      },
      "id": "Py3W4Wt_M8eg"
    },
    {
      "cell_type": "code",
      "execution_count": null,
      "id": "48db5cf3",
      "metadata": {
        "id": "48db5cf3"
      },
      "outputs": [],
      "source": [
        "# 이미지 경로에서 Data set 뽑는 함수\n",
        "def get_PTN_dicts(img_dir):\n",
        "    json_file = os.path.join(img_dir, \"annotations.json\")\n",
        "    with open(json_file) as f:\n",
        "        imgs_anns = json.load(f)\n",
        "\n",
        "    # 최종 결과물\n",
        "    dataset_dicts = []\n",
        "    \n",
        "    idx = 0\n",
        "    # 이미지들을 annotation한 json에서 이미지별로 하나씩 데이터 뽑아서 record에 저장(key : \"이미지file.jpg\", val : seg데이터)\n",
        "    for key, val in imgs_anns.items():\n",
        "        record = {} # 각 이미지별 정보 담을 dataset 포맷\n",
        "        \n",
        "        filename = os.path.join(img_dir, key) # 이미지file 경로\n",
        "        height, width = cv2.imread(filename).shape[:2] # 이미지file 경로로 cv2로 이미지 열어서 height, width 추출\n",
        "\n",
        "        # 이미지 기본정보\n",
        "        record[\"file_name\"] = filename\n",
        "        record[\"image_id\"] = idx\n",
        "        record[\"height\"] = height\n",
        "        record[\"width\"] = width\n",
        "      \n",
        "        annos = val[\"instances\"]\n",
        "        objs = []\n",
        "\n",
        "        # 이미지 기본정보 중 annotation_class별로 point들(x,y,x,y,x,y,...x,y순서) 뽑아서 obj에 담고 objs에 class별로 누적 후 record[\"annotations\"]에 최종 저장\n",
        "        for anno in annos:\n",
        "            category_id = anno[\"classId\"] - 1 # annotation.json이 1Base 기반\n",
        "            \n",
        "            # [ActiveArea] Annotation영역만 취급하기\n",
        "            if category_id > 0: \n",
        "              continue\n",
        "\n",
        "            points = anno[\"points\"]\n",
        "            px = []\n",
        "            py = []\n",
        "\n",
        "            # point들(x,y,x,y,x,y,...x,y순서) 뽑아서 px, py로 각각 list 생성\n",
        "            for i in range(0,int(len(points)/2)):\n",
        "              temp_x = points[i*2] / Resize_Rate\n",
        "              temp_y = points[i*2+1] / Resize_Rate\n",
        "\n",
        "              # [예외처리]point 위치값이 이미지 크기를 넘어간 경우 예외처리\n",
        "              if(temp_x < 0):\n",
        "                 temp_x = 0\n",
        "              if(temp_y < 0):\n",
        "                 temp_y = 0 \n",
        "              if(temp_x >= width):\n",
        "                temp_x = width-1\n",
        "              if(temp_y >= height):\n",
        "                temp_y = height-1\n",
        "\n",
        "              px = px + [temp_x]\n",
        "              py = py + [temp_y]\n",
        "\n",
        "            # px, py list를 poly에 (x,y)형태로 묶어서 다시 list화\n",
        "            poly = [(x + 0.5, y + 0.5) for x, y in zip(px, py)]\n",
        "            poly = list(itertools.chain.from_iterable(poly))\n",
        "\n",
        "            # obj dict에 (x,y)list를 토대로 Box만들고 list 등록\n",
        "            obj = {\n",
        "                \"bbox\": [np.min(px), np.min(py), np.max(px), np.max(py)],\n",
        "                \"bbox_mode\": BoxMode.XYXY_ABS,\n",
        "                \"segmentation\": [poly],\n",
        "                \"category_id\": category_id,\n",
        "                \"iscrowd\": 0\n",
        "            }\n",
        "            objs.append(obj) # obj를 objs에 누적\n",
        "        record[\"annotations\"] = objs # objs를 record[\"annotations\"]에 등록\n",
        "        dataset_dicts.append(record) # record를 dataset에 누적\n",
        "    return dataset_dicts"
      ]
    },
    {
      "cell_type": "markdown",
      "source": [
        "# (5) train, val 이미지들을 Metadata Set에 등록"
      ],
      "metadata": {
        "id": "fbTbAph9Wl1s"
      },
      "id": "fbTbAph9Wl1s"
    },
    {
      "cell_type": "code",
      "execution_count": null,
      "id": "6f8f88c3",
      "metadata": {
        "id": "6f8f88c3"
      },
      "outputs": [],
      "source": [
        "for d in [\"TRAIN\", \"VAL\"]:\n",
        "    DatasetCatalog.register(\"PTN_\" + d, lambda d=d: get_PTN_dicts(\"GCL_Image/\"+d))\n",
        "    #MetadataCatalog.get(\"PTN_\" + d).set(thing_classes=[\"ACTIVE\",\"PTN1\",\"PTN2\",\"PTN3\"])\n",
        "    MetadataCatalog.get(\"PTN_\" + d).set(thing_classes=[\"ACTIVE\"])\n",
        "PTN_metadata = MetadataCatalog.get(\"PTN_TRAIN\")"
      ]
    },
    {
      "cell_type": "markdown",
      "source": [
        "## (선택) 데이터가 제대로 로드되었는지 확인"
      ],
      "metadata": {
        "id": "uubed2fVWnam"
      },
      "id": "uubed2fVWnam"
    },
    {
      "cell_type": "code",
      "execution_count": null,
      "id": "8d3b7ba6",
      "metadata": {
        "id": "8d3b7ba6"
      },
      "outputs": [],
      "source": [
        "# TRAIN 폴더에서 Metadata Set 뽑기\n",
        "dataset_dicts = get_PTN_dicts(\"GCL_Image/TRAIN\")\n",
        "random_count = 5\n",
        "# Metadata Set 중에서 3개 랜덤하게 뽑아서 annotation한 영역 그리기\n",
        "for d in random.sample(dataset_dicts, random_count):\n",
        "    img = cv2.imread(d[\"file_name\"])\n",
        "    #img = cv2.resize(img,(0,0),fx=(1/4),fy=(1/4),interpolation=cv2.INTER_AREA) # 결과 이미지 Resize -> 안하면 런타임 죽을 수도 있음\n",
        "    visualizer = Visualizer(img[:, :, ::-1], metadata=PTN_metadata, scale=0.5)\n",
        "    vis = visualizer.draw_dataset_dict(d)\n",
        "    cv2_imshow(vis.get_image()[:, :, ::-1])"
      ]
    },
    {
      "cell_type": "markdown",
      "source": [
        "(5.1) 학습 Data Augmentation 진행"
      ],
      "metadata": {
        "id": "awie2yLfFrvx"
      },
      "id": "awie2yLfFrvx"
    },
    {
      "cell_type": "code",
      "source": [
        "from detectron2.data import detection_utils as utils\n",
        "import detectron2.data.transforms as T\n",
        "import copy\n",
        "\n",
        "def custom_mapper(dataset_dict):\n",
        "    dataset_dict = copy.deepcopy(dataset_dict)  # it will be modified by code below\n",
        "    image = utils.read_image(dataset_dict[\"file_name\"], format=\"BGR\")\n",
        "    transform_list = [\n",
        "        T.RandomBrightness(0.8, 1.8)\n",
        "#        T.RandomContrast(0.6, 1.3),\n",
        "#        T.RandomSaturation(0.8, 1.4),\n",
        "#        T.RandomRotation(angle=[90, 90]),\n",
        "#        T.RandomLighting(0.7),\n",
        "#        T.RandomFlip(prob=0.4, horizontal=False, vertical=True)\n",
        "    ]\n",
        "    image, transforms = T.apply_transform_gens(transform_list, image)\n",
        "    dataset_dict[\"image\"] = torch.as_tensor(image.transpose(2, 0, 1))\n",
        "\n",
        "    annos = [\n",
        "        utils.transform_instance_annotations(obj, transforms, image.shape[:2])\n",
        "        for obj in dataset_dict.pop(\"annotations\")\n",
        "        if obj.get(\"iscrowd\", 0) == 0\n",
        "    ]\n",
        "    instances = utils.annotations_to_instances(annos, image.shape[:2])\n",
        "    dataset_dict[\"instances\"] = utils.filter_empty_instances(instances)\n",
        "    return dataset_dict\n",
        "\n",
        "##################################################################################################\n",
        "\n",
        "from detectron2.engine import DefaultTrainer\n",
        "from detectron2.data import build_detection_test_loader, build_detection_train_loader\n",
        "\n",
        "class CustomTrainer(DefaultTrainer):\n",
        "    @classmethod\n",
        "    def build_train_loader(cls, cfg):\n",
        "        return build_detection_train_loader(cfg, mapper=custom_mapper)\n",
        "  \n",
        "    \n",
        "##################################################################################################"
      ],
      "metadata": {
        "id": "2WNmfG1rF3tm"
      },
      "id": "2WNmfG1rF3tm",
      "execution_count": null,
      "outputs": []
    },
    {
      "cell_type": "markdown",
      "source": [
        "# (6) 학습하기"
      ],
      "metadata": {
        "id": "9NR7dFlJXD7K"
      },
      "id": "9NR7dFlJXD7K"
    },
    {
      "cell_type": "markdown",
      "source": [
        "## (6.1) Instance Segmentation 학습"
      ],
      "metadata": {
        "id": "FaREBgLhYlh5"
      },
      "id": "FaREBgLhYlh5"
    },
    {
      "cell_type": "markdown",
      "source": [
        "자 이제 학습을 진행할 단계입니다. COCO 데이터셋으로 학습된 R50-FPN Mask R-CNN 모델을 불러와서 풍선 데이터셋으로 fine-tune해 봅시다.\n",
        "Colab의 K80 GPU를 기준으로, 300 iterations 학습시키는데 대략 6분정도의 시간이 소요됩니다(P100 GPU의 경우 2분 가량 소요됩니다)."
      ],
      "metadata": {
        "id": "oBb_B8hjW-2H"
      },
      "id": "oBb_B8hjW-2H"
    },
    {
      "cell_type": "code",
      "source": [
        "cfg = get_cfg()\n",
        "cfg.merge_from_file(\"./detectron2_repo/configs/COCO-InstanceSegmentation/mask_rcnn_R_50_FPN_3x.yaml\")\n",
        "cfg.DATASETS.TRAIN = (\"PTN_TRAIN\",)\n",
        "cfg.DATASETS.TEST = ()\n",
        "cfg.DATALOADER.NUM_WORKERS = 2\n",
        "cfg.MODEL.WEIGHTS = \"detectron2://COCO-InstanceSegmentation/mask_rcnn_R_50_FPN_3x/137849600/model_final_f10217.pkl\"  # initialize from model zoo\n",
        "cfg.SOLVER.IMS_PER_BATCH = 16   # SOLVER.IMS_PER_BATCH는 딥러닝에서는 일반적으로 배치 사이즈로 알려져 있으며, 1회 반복으로 사용되는 트레이닝의 예를 나타냅니다.\n",
        "cfg.SOLVER.BASE_LR = 0.00025\n",
        "cfg.SOLVER.MAX_ITER = 600   # 300 iterations 정도면 충분합니다. 더 오랜 시간도 시도해보세요.\n",
        "cfg.MODEL.ROI_HEADS.BATCH_SIZE_PER_IMAGE = 128  # Model.ROI_HEADSBATCH_SIZE_PER_IMAGE는 훈련 중 cls 및 reg loss를 계산하기 위해 RPN에서 나오는 프로포절의 서브셋을 샘플링하기 위해 사용되는 파라미터입니다.   # 풍선 데이터셋과 같이 작은 데이터셋에서는 128이면 적당합니다.\n",
        "#cfg.MODEL.ROI_HEADS.NUM_CLASSES = 4  # 클래스는 \"풍선\" 클래스 하나 뿐입니다.\n",
        "cfg.MODEL.ROI_HEADS.NUM_CLASSES = 1  # 클래스는 \"풍선\" 클래스 하나 뿐입니다.\n",
        "\n",
        "os.makedirs(cfg.OUTPUT_DIR, exist_ok=True)\n",
        "#trainer = DefaultTrainer(cfg) \n",
        "trainer = CustomTrainer(cfg) \n",
        "trainer.resume_or_load(resume=False)\n",
        "trainer.train()\n",
        "\n",
        "# 결과 모델은 output/model_final.pth로 남음"
      ],
      "metadata": {
        "id": "zDAPvrT-V4b0"
      },
      "id": "zDAPvrT-V4b0",
      "execution_count": null,
      "outputs": []
    },
    {
      "cell_type": "markdown",
      "source": [
        "### (선택) 학습 커브 확인"
      ],
      "metadata": {
        "id": "b6HnZgehXpUn"
      },
      "id": "b6HnZgehXpUn"
    },
    {
      "cell_type": "code",
      "source": [
        "# tensorboard를 사용해서 학습 커브를 살펴봅니다.\n",
        "%load_ext tensorboard\n",
        "%tensorboard --logdir output"
      ],
      "metadata": {
        "id": "0YBOidu3XsoF"
      },
      "id": "0YBOidu3XsoF",
      "execution_count": null,
      "outputs": []
    },
    {
      "cell_type": "markdown",
      "source": [
        "## (6.2) 학습한 모델 실행 및 평가하기\n",
        "자 이제 풍선 데이터셋의 검증(validation) 데이터셋으로 테스트를 해볼 차례입니다. \n",
        "\n",
        "우선, 방금 전 학습한 모델을 불러와서 `predictor`를 생성합니다."
      ],
      "metadata": {
        "id": "9Jf5p-ShX157"
      },
      "id": "9Jf5p-ShX157"
    },
    {
      "cell_type": "code",
      "source": [
        "cfg.MODEL.WEIGHTS = os.path.join(cfg.OUTPUT_DIR, \"model_final.pth\")\n",
        "cfg.MODEL.ROI_HEADS.SCORE_THRESH_TEST = 0.7   # set the testing threshold for this model\n",
        "cfg.DATASETS.TEST = (\"PTN_VAL\", )\n",
        "predictor = DefaultPredictor(cfg)"
      ],
      "metadata": {
        "id": "qwuI2qi7brYd"
      },
      "id": "qwuI2qi7brYd",
      "execution_count": null,
      "outputs": []
    },
    {
      "cell_type": "markdown",
      "source": [
        "## (6.3) 샘플 추출"
      ],
      "metadata": {
        "id": "ewkfj5a6bsiD"
      },
      "id": "ewkfj5a6bsiD"
    },
    {
      "cell_type": "markdown",
      "source": [
        "> 학습한 predictor에 Data Set기반으로 Segmentation 진행"
      ],
      "metadata": {
        "id": "xPxz_53aM25i"
      },
      "id": "xPxz_53aM25i"
    },
    {
      "cell_type": "code",
      "source": [
        "# 학습한 predictor에 Data Set기반으로 Segmentation 진행\n",
        "def sampleTest(d):\n",
        "  # Data Set에서 이미지 정보 추출\n",
        "  img = cv2.imread(d[\"file_name\"])\n",
        "  #img = cv2.resize(img,(0,0),fx=(1/4),fy=(1/4),interpolation=cv2.INTER_AREA) # 결과 이미지 Resize -> 안하면 런타임 죽을 수도 있음\n",
        "\n",
        "  # 학습한 predictor에 이미지 넣어서 검증\n",
        "  output = predictor(img) # 랜덤하게 뽑은 이미지를 predictor로 검증\n",
        "  outputs.append(output) # 검증한 결과데이터(output) 누적하기(outputs)\n",
        "\n",
        "  # 이미지 그리기 준비\n",
        "  v = Visualizer(img[:, :, ::-1],\n",
        "                  metadata=PTN_metadata, \n",
        "                  scale=0.8, \n",
        "                  instance_mode=ColorMode.IMAGE_BW   # remove the colors of unsegmented pixels\n",
        "  )\n",
        "  v = v.draw_instance_predictions(output[\"instances\"].to(\"cpu\"))\n",
        "\n",
        "  # 이미지 그리기\n",
        "  cv2_imshow(v.get_image()[:, :, ::-1])\n",
        "\n",
        "  # 이미지 폴더 생성\n",
        "  if not os.path.exists(\"output_Image/GCL_Image/VAL/\"):\n",
        "    os.makedirs(\"output_Image/GCL_Image/VAL/\")\n",
        "  \n",
        "  # 이미지 저장\n",
        "  cv2.imwrite(\"output_Image/\"+d[\"file_name\"], v.get_image()[:, :, ::-1])\n",
        "\n",
        "  # 검증결과 데이터 리턴\n",
        "  return outputs"
      ],
      "metadata": {
        "id": "kmLsCM3LAPcO"
      },
      "id": "kmLsCM3LAPcO",
      "execution_count": null,
      "outputs": []
    },
    {
      "cell_type": "code",
      "source": [
        "# VAL 폴더에서 Metadata Set 뽑기\n",
        "dataset_dicts = get_PTN_dicts(\"GCL_Image/VAL\")\n",
        "# Metadata Set 중에서 3개 랜덤하게 뽑아서 Segmentation한 영역 그리기(outputs)\n",
        "outputs = []\n",
        "random_count = 10\n",
        "for d in random.sample(dataset_dicts, random_count):\n",
        "    outputs = sampleTest(d)"
      ],
      "metadata": {
        "id": "SFjUmJ2zbyh7"
      },
      "id": "SFjUmJ2zbyh7",
      "execution_count": null,
      "outputs": []
    },
    {
      "cell_type": "markdown",
      "source": [
        "\n",
        "# (7) 테두리 영역 추출하기"
      ],
      "metadata": {
        "id": "fjclUZIHpYFF"
      },
      "id": "fjclUZIHpYFF"
    },
    {
      "cell_type": "markdown",
      "source": [
        "## (7.1) seg 영역 → Binary → 테두리 영역 추출"
      ],
      "metadata": {
        "id": "Ps08573UEPVA"
      },
      "id": "Ps08573UEPVA"
    },
    {
      "cell_type": "code",
      "source": [
        "# 테두리 영역진행한 이미지들[이미지번호][seg영역번호]\n",
        "outline_arrays_arrays = []\n",
        "\n",
        "# 각 이미지 별(n)\n",
        "for n in range(len(outputs)):\n",
        "  # 한 이미지 내 테두리 영역들\n",
        "  outline_arrays = []\n",
        "  output = outputs[n]['instances'] # 랜덤하게 뽑은 이미지들(outputs[n])에서 이미지 하나씩(output)\n",
        "  mask_array = output.to(\"cpu\").pred_masks.numpy() # 이미지(output) 내 seg 영역들 추출(mask_array)\n",
        "\n",
        "  height = (output.image_size)[0] # 이미지 높이\n",
        "  width = (output.image_size)[1] # 이미지 너비\n",
        "\n",
        "  # 한 이미지의 seg영역 별(m)\n",
        "  for m in range(len(mask_array)):\n",
        "    bin_array = np.zeros(shape=(height,width)) # Binaray 용(mask_array)\n",
        "    outline_array = np.zeros(shape=(height,width)) # 테두리 용(outline_array)\n",
        "\n",
        "    # seg영역(mask_array) → Binary영역(bin_array) 치환\n",
        "    for i in range(height):\n",
        "      for j in range(width):\n",
        "        if mask_array[m][i][j]:\n",
        "          bin_array[i][j] = 255\n",
        "    \n",
        "    # Binary영역(bin_array) → 테두리 추출(outline_array)\n",
        "    for p in range(height): \n",
        "      for q in range(width):\n",
        "        if bin_array[p][q] == 255:\n",
        "          # [예외처리] 이미지 위아래 끝단일 경우\n",
        "          if p == 0 or p == (height-1):\n",
        "            outline_array[p][q] = 255\n",
        "          # [예외처리] 이미지 좌우 끝단일 경우\n",
        "          elif q == 0 or q == (width-1):\n",
        "            outline_array[p][q] = 255\n",
        "          # 테두리일 경우\n",
        "          elif bin_array[p-1][q] == 0 or bin_array[p][q-1] == 0 or bin_array[p+1][q] == 0 or bin_array[p][q+1] == 0:\n",
        "            outline_array[p][q] = 255\n",
        "          # 테두리가 아닐 경우\n",
        "          else:\n",
        "            outline_array[p][q] = 0\n",
        "            \n",
        "    cv2_imshow(outline_array) # 그려보기\n",
        "    outline_arrays.append(outline_array) # 한 이미지 내 테두리 이미지들(outline_array) 누적하기(outline_arrays)\n",
        "  \n",
        "  outline_arrays_arrays.append(outline_arrays) # 이미지들(outline_arrays) 누적하기(outline_arrays_arrays)\n",
        "    "
      ],
      "metadata": {
        "id": "xcPZyZONpXsE"
      },
      "id": "xcPZyZONpXsE",
      "execution_count": null,
      "outputs": []
    },
    {
      "cell_type": "markdown",
      "source": [
        "## (7.2) 테두리 중 직선부 중복 빼기"
      ],
      "metadata": {
        "id": "GxC6hOAp53-u"
      },
      "id": "GxC6hOAp53-u"
    },
    {
      "cell_type": "code",
      "source": [
        "deDupli_array = [] # 중복 뺀 결과 이미지들\n",
        "\n",
        "for i in range(len(outline_arrays_arrays)):\n",
        "  deDupli = [] # 중복 뺀 한 이미지\n",
        "  for j in range(len(outline_arrays_arrays[i])):\n",
        "    outline_arrays = outline_arrays_arrays[i][j] # 테두리 영역\n",
        "    \n",
        "    height = len(outline_arrays)\n",
        "    width = len(outline_arrays[0])\n",
        "\n",
        "    output_temp1 = np.zeros(shape=(height,width)) # 가로방향 중복 제거용\n",
        "    output_temp2 = np.zeros(shape=(height,width)) # 세로방향 중복 제거용\n",
        "    output = np.zeros(shape=(height,width)) # 가로/세로방향 중복 제거 후 Merge 결과물\n",
        "    \n",
        "    # [예외처리] 이미지 상부 끝단일 경우\n",
        "    for n in range(1, width):\n",
        "      if outline_arrays[0][n] == outline_arrays[0][n-1]:\n",
        "        outline_arrays[0][n] = 0\n",
        "    # [예외처리] 이미지 하부 끝단일 경우\n",
        "    for n in range(1,width):\n",
        "      if outline_arrays[height-1][n] == outline_arrays[height-1][n-1]:\n",
        "        outline_arrays[height-1][n] = 0\n",
        "    # [예외처리] 이미지 좌측 끝단일 경우\n",
        "    for n in range(1, height):\n",
        "      if outline_arrays[n][0] == outline_arrays[n-1][0]:\n",
        "        outline_arrays[n][0] = 0\n",
        "    # [예외처리] 이미지 우측 단일 경우\n",
        "    for n in range(1, height):\n",
        "      if outline_arrays[n][width-1] == outline_arrays[n][width-1]:\n",
        "        outline_arrays[n][width-1] = 0\n",
        "    \n",
        "    # 가로/세로방향 각각 중복 제거하기\n",
        "    for n in range(1, height-1):\n",
        "      for m in range(1, width-1):\n",
        "        if outline_arrays[n][m] == 255:\n",
        "          if outline_arrays[n][m] != outline_arrays[n][m-1]:\n",
        "            output_temp1[n][m] = 255\n",
        "          if outline_arrays[n][m] != outline_arrays[n][m+1]:\n",
        "            output_temp1[n][m] = 255\n",
        "          if outline_arrays[n][m] != outline_arrays[n-1][m]:\n",
        "            output_temp2[n][m] = 255\n",
        "          if outline_arrays[n][m] != outline_arrays[n+1][m]:\n",
        "            output_temp2[n][m] = 255\n",
        "    \n",
        "    # 가로/세로방향 각각 중복 제거 후 Merge하기\n",
        "    for n in range(1, height-1):\n",
        "      for m in range(1, width-1):\n",
        "        if output_temp1[n][m] == 255 and output_temp2[n][m] == 255:\n",
        "          output[n][m] = 255\n",
        "\n",
        "    cv2_imshow(output) # 그려보기\n",
        "    deDupli.append(output) # 한 이미지 내 테두리 영역(output)\n",
        "  deDupli_array.append(deDupli) # 이미지들"
      ],
      "metadata": {
        "id": "9ggeXrqu6A-G"
      },
      "id": "9ggeXrqu6A-G",
      "execution_count": null,
      "outputs": []
    },
    {
      "cell_type": "markdown",
      "source": [
        "# (8) json으로 저장"
      ],
      "metadata": {
        "id": "LbpiVlsJVn5A"
      },
      "id": "LbpiVlsJVn5A"
    },
    {
      "cell_type": "markdown",
      "source": [
        "\n",
        "\n",
        "> json 변수에 저장\n",
        "\n"
      ],
      "metadata": {
        "id": "FRm-qFYgbhyg"
      },
      "id": "FRm-qFYgbhyg"
    },
    {
      "cell_type": "code",
      "source": [
        "Block = 0 # json에서 Block번호\n",
        "Block_Area = 0 # json에서 한 Block 내 테두리 영역별 번호\n",
        "output_json = OrderedDict() # json 변수\n",
        "\n",
        "for i in range(len(deDupli_array)):\n",
        "  deDupli = deDupli_array[i]\n",
        "\n",
        "  for j in range(len(deDupli)):\n",
        "    array = deDupli[j]\n",
        "    height = len(array)\n",
        "    width = len(array[0])\n",
        "\n",
        "    points = {}\n",
        "    cnt_x = 1\n",
        "    cnt_y = 1\n",
        "\n",
        "    for n in range(height):\n",
        "      for m in range(width):\n",
        "        if array[n][m] == 255:\n",
        "          points[\"Point_x_\"+str(cnt_x)] = m\n",
        "          points[\"Point_y_\"+str(cnt_y)] = n\n",
        "          cnt_x += 1\n",
        "          cnt_y += 1\n",
        "    \n",
        "    output_json['Blcok#' + str(Block) + '_' + 'Area#' + str(Block_Area)] = points\n",
        "    Block_Area += 1\n",
        "  Block += 1"
      ],
      "metadata": {
        "id": "2L91-6JCA18g"
      },
      "id": "2L91-6JCA18g",
      "execution_count": null,
      "outputs": []
    },
    {
      "cell_type": "code",
      "source": [
        "print(json.dumps(output_json,indent='\\t'))"
      ],
      "metadata": {
        "id": "q0DVe2W3asD6"
      },
      "id": "q0DVe2W3asD6",
      "execution_count": null,
      "outputs": []
    },
    {
      "cell_type": "markdown",
      "source": [
        "> json 파일에 저장"
      ],
      "metadata": {
        "id": "jGlDzl1Ubc_c"
      },
      "id": "jGlDzl1Ubc_c"
    },
    {
      "cell_type": "code",
      "source": [
        "with open(\"test.json\", 'w') as file:\n",
        "    json.dump(output_json,file,indent='\\t')"
      ],
      "metadata": {
        "id": "U2hfqHQZbgtE"
      },
      "id": "U2hfqHQZbgtE",
      "execution_count": null,
      "outputs": []
    }
  ],
  "metadata": {
    "kernelspec": {
      "display_name": "Python 3 (ipykernel)",
      "language": "python",
      "name": "python3"
    },
    "language_info": {
      "codemirror_mode": {
        "name": "ipython",
        "version": 3
      },
      "file_extension": ".py",
      "mimetype": "text/x-python",
      "name": "python",
      "nbconvert_exporter": "python",
      "pygments_lexer": "ipython3",
      "version": "3.9.12"
    },
    "toc": {
      "base_numbering": 1,
      "nav_menu": {},
      "number_sections": true,
      "sideBar": true,
      "skip_h1_title": false,
      "title_cell": "Table of Contents",
      "title_sidebar": "Contents",
      "toc_cell": false,
      "toc_position": {},
      "toc_section_display": true,
      "toc_window_display": false
    },
    "colab": {
      "provenance": [],
      "toc_visible": true
    },
    "accelerator": "GPU"
  },
  "nbformat": 4,
  "nbformat_minor": 5
}