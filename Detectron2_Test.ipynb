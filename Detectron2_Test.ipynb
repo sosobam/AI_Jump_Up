{
  "cells": [
    {
      "cell_type": "markdown",
      "source": [
        "# (1) 종속 패키지 설치하기"
      ],
      "metadata": {
        "id": "nM7Ls7VVWC-A"
      },
      "id": "nM7Ls7VVWC-A"
    },
    {
      "cell_type": "code",
      "execution_count": null,
      "id": "689575e8",
      "metadata": {
        "id": "689575e8"
      },
      "outputs": [],
      "source": [
        "# 종속 패키지(dependencies) 설치(pytorch, detectron2)\n",
        "!pip install -U torch torchvision cython\n",
        "!pip install -U 'git+https://github.com/facebookresearch/fvcore.git' 'git+https://github.com/cocodataset/cocoapi.git#subdirectory=PythonAPI'\n",
        "import torch, torchvision\n",
        "torch.__version__\n",
        "\n",
        "!git clone https://github.com/facebookresearch/detectron2 detectron2_repo\n",
        "!pip install -e detectron2_repo\n",
        "\n",
        "# 인스톨이 완료되면 Colab Runtime을 다시 시작해주세요. "
      ]
    },
    {
      "cell_type": "markdown",
      "source": [
        "## 패키지 설치가 완료되면 Colab Runtime을 다시 시작해주세요.\n",
        "> [런타임] - [런타임 다시 시작]\n",
        "\n"
      ],
      "metadata": {
        "id": "hcs2QoV7iwWh"
      },
      "id": "hcs2QoV7iwWh"
    },
    {
      "cell_type": "markdown",
      "source": [
        "# (2) 유틸 Import"
      ],
      "metadata": {
        "id": "rLm9rBiMWHhb"
      },
      "id": "rLm9rBiMWHhb"
    },
    {
      "cell_type": "code",
      "execution_count": 1,
      "id": "1134cdea",
      "metadata": {
        "id": "1134cdea"
      },
      "outputs": [],
      "source": [
        "# 기본 설정\n",
        "import os\n",
        "import numpy as np\n",
        "import json\n",
        "from detectron2.structures import BoxMode\n",
        "import itertools\n",
        "from collections import OrderedDict\n",
        "\n",
        "# detectron2 logger 설정\n",
        "import detectron2\n",
        "from detectron2.utils.logger import setup_logger\n",
        "setup_logger()\n",
        "\n",
        "# 자주 사용하는 라이브러리 임폴트\n",
        "import numpy as np\n",
        "import cv2\n",
        "import random\n",
        "from google.colab.patches import cv2_imshow\n",
        "\n",
        "# 자주 사용하는 detectron2 유틸 임폴트 \n",
        "from detectron2.engine import DefaultPredictor\n",
        "from detectron2.config import get_cfg\n",
        "from detectron2.utils.visualizer import Visualizer\n",
        "from detectron2.data import MetadataCatalog\n",
        "from detectron2.data import DatasetCatalog, MetadataCatalog\n",
        "from detectron2.utils.visualizer import ColorMode\n",
        "from detectron2.engine import DefaultTrainer\n",
        "from detectron2.evaluation import COCOEvaluator"
      ]
    },
    {
      "cell_type": "markdown",
      "source": [
        "# (3) github에서 TRAIN, VAL data들 가져오기"
      ],
      "metadata": {
        "id": "ao0bfHsDWLzR"
      },
      "id": "ao0bfHsDWLzR"
    },
    {
      "cell_type": "code",
      "execution_count": null,
      "id": "fa7d124e",
      "metadata": {
        "id": "fa7d124e"
      },
      "outputs": [],
      "source": [
        "!git clone https://github.com/parksunny94/GCL_Image.git"
      ]
    },
    {
      "cell_type": "markdown",
      "source": [
        "## (3.1) 이미지 Resize(1/4)"
      ],
      "metadata": {
        "id": "Rk_BufByY6o6"
      },
      "id": "Rk_BufByY6o6"
    },
    {
      "cell_type": "code",
      "source": [
        "Resize_Rate = 4\n",
        "def resize_Image(img_dir):\n",
        "  json_file = os.path.join(img_dir, \"annotations.json\")\n",
        "  with open(json_file) as f:\n",
        "    imgs_anns = json.load(f)\n",
        "  \n",
        "  for key, val in imgs_anns.items():\n",
        "    filename = os.path.join(img_dir, key) # 이미지file 경로\n",
        "    img = cv2.imread(filename) # 이미지 읽어오기\n",
        "    img = cv2.resize(img,(0,0),fx=(1/Resize_Rate),fy=(1/Resize_Rate),interpolation=cv2.INTER_AREA) # 학습 이미지 Resize(1/4)\n",
        "    cv2.imwrite(filename,img) # Resize한 이미지 저장"
      ],
      "metadata": {
        "id": "lsVLZeyIYlts"
      },
      "id": "lsVLZeyIYlts",
      "execution_count": 2,
      "outputs": []
    },
    {
      "cell_type": "code",
      "source": [
        "# TRAIN 폴더 내 이미지들 1/4로 Resize\n",
        "resize_Image(\"GCL_Image/TRAIN\")"
      ],
      "metadata": {
        "id": "U0oWySwZZxKc"
      },
      "id": "U0oWySwZZxKc",
      "execution_count": 4,
      "outputs": []
    },
    {
      "cell_type": "code",
      "source": [
        "# VAL 폴더 내 이미지들 1/4로 Resize\n",
        "resize_Image(\"GCL_Image/VAL\")"
      ],
      "metadata": {
        "id": "NjXTNNRHZzlR"
      },
      "id": "NjXTNNRHZzlR",
      "execution_count": 5,
      "outputs": []
    },
    {
      "cell_type": "markdown",
      "source": [
        "# (4) Detectron2에서 Data Set 정보를 로드하는 형식에 맞춰 함수를 작성하기"
      ],
      "metadata": {
        "id": "TC213Cv8WVfF"
      },
      "id": "TC213Cv8WVfF"
    },
    {
      "cell_type": "markdown",
      "source": [
        "> 이미지 경로에서 Data set 뽑는 함수"
      ],
      "metadata": {
        "id": "Py3W4Wt_M8eg"
      },
      "id": "Py3W4Wt_M8eg"
    },
    {
      "cell_type": "code",
      "execution_count": 3,
      "id": "48db5cf3",
      "metadata": {
        "id": "48db5cf3"
      },
      "outputs": [],
      "source": [
        "# 이미지 경로에서 Data set 뽑는 함수\n",
        "def get_PTN_dicts(img_dir):\n",
        "    json_file = os.path.join(img_dir, \"annotations.json\")\n",
        "    with open(json_file) as f:\n",
        "        imgs_anns = json.load(f)\n",
        "\n",
        "    # 최종 결과물\n",
        "    dataset_dicts = []\n",
        "    \n",
        "    idx = 0\n",
        "    # 이미지들을 annotation한 json에서 이미지별로 하나씩 데이터 뽑아서 record에 저장(key : \"이미지file.jpg\", val : seg데이터)\n",
        "    for key, val in imgs_anns.items():\n",
        "        record = {} # 각 이미지별 정보 담을 dataset 포맷\n",
        "        \n",
        "        filename = os.path.join(img_dir, key) # 이미지file 경로\n",
        "        height, width = cv2.imread(filename).shape[:2] # 이미지file 경로로 cv2로 이미지 열어서 height, width 추출\n",
        "\n",
        "        # 이미지 기본정보\n",
        "        record[\"file_name\"] = filename\n",
        "        record[\"image_id\"] = idx\n",
        "        record[\"height\"] = height\n",
        "        record[\"width\"] = width\n",
        "      \n",
        "        annos = val[\"instances\"]\n",
        "        objs = []\n",
        "\n",
        "        # 이미지 기본정보 중 annotation_class별로 point들(x,y,x,y,x,y,...x,y순서) 뽑아서 obj에 담고 objs에 class별로 누적 후 record[\"annotations\"]에 최종 저장\n",
        "        for anno in annos:\n",
        "            category_id = anno[\"classId\"] - 1 # annotation.json이 1Base 기반\n",
        "            \n",
        "            # [테스트용] [Active] Annotation영역만 취급하기\n",
        "            # if category_id > 0: \n",
        "            #   continue\n",
        "\n",
        "            points = anno[\"points\"]\n",
        "            px = []\n",
        "            py = []\n",
        "\n",
        "            # point들(x,y,x,y,x,y,...x,y순서) 뽑아서 px, py로 각각 list 생성\n",
        "            for i in range(0,int(len(points)/2)):\n",
        "              temp_x = points[i*2] / Resize_Rate\n",
        "              temp_y = points[i*2+1] / Resize_Rate\n",
        "\n",
        "              # [예외처리]point 위치값이 이미지 크기를 넘어간 경우 예외처리\n",
        "              if(temp_x < 0):\n",
        "                 temp_x = 0\n",
        "              if(temp_y < 0):\n",
        "                 temp_y = 0 \n",
        "              if(temp_x >= width):\n",
        "                temp_x = width-1\n",
        "              if(temp_y >= height):\n",
        "                temp_y = height-1\n",
        "\n",
        "              px = px + [temp_x]\n",
        "              py = py + [temp_y]\n",
        "\n",
        "            # px, py list를 poly에 (x,y)형태로 묶어서 다시 list화\n",
        "            poly = [(x + 0.5, y + 0.5) for x, y in zip(px, py)]\n",
        "            poly = list(itertools.chain.from_iterable(poly))\n",
        "\n",
        "            # obj dict에 (x,y)list를 토대로 Box만들고 list 등록\n",
        "            obj = {\n",
        "                \"bbox\": [np.min(px), np.min(py), np.max(px), np.max(py)],\n",
        "                \"bbox_mode\": BoxMode.XYXY_ABS,\n",
        "                \"segmentation\": [poly],\n",
        "                \"category_id\": category_id,\n",
        "                \"iscrowd\": 0\n",
        "            }\n",
        "            objs.append(obj) # obj를 objs에 누적\n",
        "        record[\"annotations\"] = objs # objs를 record[\"annotations\"]에 등록\n",
        "        dataset_dicts.append(record) # record를 dataset에 누적\n",
        "    return dataset_dicts"
      ]
    },
    {
      "cell_type": "markdown",
      "source": [
        "# (5) train, val 이미지들을 Metadata Set에 등록"
      ],
      "metadata": {
        "id": "fbTbAph9Wl1s"
      },
      "id": "fbTbAph9Wl1s"
    },
    {
      "cell_type": "code",
      "execution_count": 4,
      "id": "6f8f88c3",
      "metadata": {
        "id": "6f8f88c3"
      },
      "outputs": [],
      "source": [
        "for d in [\"TRAIN\", \"VAL\"]:\n",
        "    DatasetCatalog.register(\"PTN_\" + d, lambda d=d: get_PTN_dicts(\"GCL_Image/\"+d))\n",
        "    MetadataCatalog.get(\"PTN_\" + d).set(thing_classes=[\"ACTIVE\",\"PTN1\"])\n",
        "    MetadataCatalog.get(\"PTN_\" + d).set(evaluator_type=\"coco\")\n",
        "PTN_metadata = MetadataCatalog.get(\"PTN_TRAIN\")"
      ]
    },
    {
      "cell_type": "markdown",
      "source": [
        "## (선택) 데이터가 제대로 로드되었는지 확인"
      ],
      "metadata": {
        "id": "uubed2fVWnam"
      },
      "id": "uubed2fVWnam"
    },
    {
      "cell_type": "code",
      "execution_count": null,
      "id": "8d3b7ba6",
      "metadata": {
        "id": "8d3b7ba6"
      },
      "outputs": [],
      "source": [
        "# TRAIN 폴더에서 Metadata Set 뽑기\n",
        "dataset_dicts = get_PTN_dicts(\"GCL_Image/TRAIN\")\n",
        "random_count = 5\n",
        "# Metadata Set 중에서 3개 랜덤하게 뽑아서 annotation한 영역 그리기\n",
        "for d in random.sample(dataset_dicts, random_count):\n",
        "    img = cv2.imread(d[\"file_name\"])\n",
        "    #img = cv2.resize(img,(0,0),fx=(1/4),fy=(1/4),interpolation=cv2.INTER_AREA) # 결과 이미지 Resize -> 안하면 런타임 죽을 수도 있음\n",
        "    visualizer = Visualizer(img[:, :, ::-1], metadata=PTN_metadata, scale=0.5)\n",
        "    vis = visualizer.draw_dataset_dict(d)\n",
        "    cv2_imshow(vis.get_image()[:, :, ::-1])"
      ]
    },
    {
      "cell_type": "markdown",
      "source": [
        "## (5.1) 학습 Data Augmentation 진행"
      ],
      "metadata": {
        "id": "awie2yLfFrvx"
      },
      "id": "awie2yLfFrvx"
    },
    {
      "cell_type": "code",
      "source": [
        "from detectron2.data import detection_utils as utils\n",
        "import detectron2.data.transforms as T\n",
        "import copy\n",
        "\n",
        "def custom_mapper(dataset_dict):\n",
        "    dataset_dict = copy.deepcopy(dataset_dict)  # it will be modified by code below\n",
        "    image = utils.read_image(dataset_dict[\"file_name\"], format=\"BGR\")\n",
        "    transform_list = [\n",
        "        T.RandomBrightness(0.8, 1.8)\n",
        "#        T.RandomContrast(0.6, 1.3),\n",
        "#        T.RandomSaturation(0.8, 1.4),\n",
        "#        T.RandomRotation(angle=[90, 90]),\n",
        "#        T.RandomLighting(0.7),\n",
        "#        T.RandomFlip(prob=0.4, horizontal=False, vertical=True)\n",
        "    ]\n",
        "    image, transforms = T.apply_transform_gens(transform_list, image)\n",
        "    dataset_dict[\"image\"] = torch.as_tensor(image.transpose(2, 0, 1))\n",
        "\n",
        "    annos = [\n",
        "        utils.transform_instance_annotations(obj, transforms, image.shape[:2])\n",
        "        for obj in dataset_dict.pop(\"annotations\")\n",
        "        if obj.get(\"iscrowd\", 0) == 0\n",
        "    ]\n",
        "    instances = utils.annotations_to_instances(annos, image.shape[:2])\n",
        "    dataset_dict[\"instances\"] = utils.filter_empty_instances(instances)\n",
        "    return dataset_dict\n",
        "\n",
        "##################################################################################################\n",
        "\n",
        "from detectron2.engine import DefaultTrainer\n",
        "from detectron2.data import build_detection_test_loader, build_detection_train_loader\n",
        "\n",
        "class CustomTrainer(DefaultTrainer):\n",
        "    @classmethod\n",
        "    def build_train_loader(cls, cfg):\n",
        "        return build_detection_train_loader(cfg, mapper=custom_mapper)\n",
        "  \n",
        "    \n",
        "##################################################################################################"
      ],
      "metadata": {
        "id": "2WNmfG1rF3tm"
      },
      "id": "2WNmfG1rF3tm",
      "execution_count": null,
      "outputs": []
    },
    {
      "cell_type": "markdown",
      "source": [
        "# (6) 학습하기"
      ],
      "metadata": {
        "id": "9NR7dFlJXD7K"
      },
      "id": "9NR7dFlJXD7K"
    },
    {
      "cell_type": "markdown",
      "source": [
        "## (6.1) Instance Segmentation 학습"
      ],
      "metadata": {
        "id": "FaREBgLhYlh5"
      },
      "id": "FaREBgLhYlh5"
    },
    {
      "cell_type": "markdown",
      "source": [
        "자 이제 학습을 진행할 단계입니다. COCO 데이터셋으로 학습된 R50-FPN Mask R-CNN 모델을 불러와서 풍선 데이터셋으로 fine-tune해 봅시다.\n",
        "Colab의 K80 GPU를 기준으로, 300 iterations 학습시키는데 대략 6분정도의 시간이 소요됩니다(P100 GPU의 경우 2분 가량 소요됩니다)."
      ],
      "metadata": {
        "id": "oBb_B8hjW-2H"
      },
      "id": "oBb_B8hjW-2H"
    },
    {
      "cell_type": "code",
      "source": [
        "class myTrainer(DefaultTrainer):\n",
        "    \"\"\"\n",
        "    We use the \"DefaultTrainer\" which contains pre-defined default logic for\n",
        "    standard training workflow. They may not work for you, especially if you\n",
        "    are working on a new research project. In that case you can write your\n",
        "    own training loop. You can use \"tools/plain_train_net.py\" as an example.\n",
        "    \"\"\"\n",
        "\n",
        "    @classmethod\n",
        "    def build_evaluator(cls, cfg, dataset_name, output_folder=None):\n",
        "        \"\"\"\n",
        "        Create evaluator(s) for a given dataset.\n",
        "        This uses the special metadata \"evaluator_type\" associated with each builtin dataset.\n",
        "        For your own dataset, you can simply create an evaluator manually in your\n",
        "        script and do not have to worry about the hacky if-else logic here.\n",
        "        \"\"\"\n",
        "        if output_folder is None:\n",
        "            output_folder = os.path.join(cfg.OUTPUT_DIR, \"inference\")\n",
        "        evaluator_list = []\n",
        "        evaluator_type = MetadataCatalog.get(dataset_name).evaluator_type\n",
        "        if evaluator_type in [\"sem_seg\", \"coco_panoptic_seg\"]:\n",
        "            evaluator_list.append(\n",
        "                SemSegEvaluator(\n",
        "                    dataset_name,\n",
        "                    distributed=True,\n",
        "                    num_classes=cfg.MODEL.SEM_SEG_HEAD.NUM_CLASSES,\n",
        "                    ignore_label=cfg.MODEL.SEM_SEG_HEAD.IGNORE_VALUE,\n",
        "                    output_dir=output_folder,\n",
        "                )\n",
        "            )\n",
        "        if evaluator_type in [\"coco\", \"coco_panoptic_seg\"]:\n",
        "            evaluator_list.append(COCOEvaluator(dataset_name, cfg, True, output_folder))\n",
        "        if evaluator_type == \"coco_panoptic_seg\":\n",
        "            evaluator_list.append(COCOPanopticEvaluator(dataset_name, output_folder))\n",
        "        if evaluator_type == \"cityscapes_instance\":\n",
        "            assert (\n",
        "                torch.cuda.device_count() >= comm.get_rank()\n",
        "            ), \"CityscapesEvaluator currently do not work with multiple machines.\"\n",
        "            return CityscapesInstanceEvaluator(dataset_name)\n",
        "        if evaluator_type == \"cityscapes_sem_seg\":\n",
        "            assert (\n",
        "                torch.cuda.device_count() >= comm.get_rank()\n",
        "            ), \"CityscapesEvaluator currently do not work with multiple machines.\"\n",
        "            return CityscapesSemSegEvaluator(dataset_name)\n",
        "        elif evaluator_type == \"pascal_voc\":\n",
        "            return PascalVOCDetectionEvaluator(dataset_name)\n",
        "        elif evaluator_type == \"lvis\":\n",
        "            return LVISEvaluator(dataset_name, cfg, True, output_folder)\n",
        "        if len(evaluator_list) == 0:\n",
        "            raise NotImplementedError(\n",
        "                \"no Evaluator for the dataset {} with the type {}\".format(\n",
        "                    dataset_name, evaluator_type\n",
        "                )\n",
        "            )\n",
        "        elif len(evaluator_list) == 1:\n",
        "            return evaluator_list[0]\n",
        "        return DatasetEvaluators(evaluator_list)"
      ],
      "metadata": {
        "id": "3c9ZZ7wZp_an"
      },
      "id": "3c9ZZ7wZp_an",
      "execution_count": 5,
      "outputs": []
    },
    {
      "cell_type": "code",
      "source": [
        "cfg = get_cfg()\n",
        "cfg.merge_from_file(\"./detectron2_repo/configs/COCO-InstanceSegmentation/mask_rcnn_R_50_FPN_3x.yaml\")\n",
        "cfg.DATASETS.TRAIN = (\"PTN_TRAIN\",)\n",
        "cfg.DATASETS.TEST = (\"PTN_VAL\",)\n",
        "cfg.DATALOADER.NUM_WORKERS = 2\n",
        "cfg.MODEL.WEIGHTS = \"detectron2://COCO-InstanceSegmentation/mask_rcnn_R_50_FPN_3x/137849600/model_final_f10217.pkl\"  # initialize from model zoo\n",
        "cfg.SOLVER.IMS_PER_BATCH = 2   # SOLVER.IMS_PER_BATCH는 딥러닝에서는 일반적으로 배치 사이즈로 알려져 있으며, 1회 반복으로 사용되는 트레이닝의 예를 나타냅니다.\n",
        "cfg.SOLVER.BASE_LR = 0.000125\n",
        "cfg.SOLVER.MAX_ITER = 3000   # 300 iterations 정도면 충분합니다. 더 오랜 시간도 시도해보세요.\n",
        "cfg.MODEL.ROI_HEADS.BATCH_SIZE_PER_IMAGE = 256  # Model.ROI_HEADSBATCH_SIZE_PER_IMAGE는 훈련 중 cls 및 reg loss를 계산하기 위해 RPN에서 나오는 프로포절의 서브셋을 샘플링하기 위해 사용되는 파라미터입니다.   # 풍선 데이터셋과 같이 작은 데이터셋에서는 128이면 적당합니다.\n",
        "cfg.MODEL.ROI_HEADS.NUM_CLASSES = 2  # 클래스는 \"풍선\" 클래스 하나 뿐입니다.\n",
        "\n",
        "os.makedirs(cfg.OUTPUT_DIR, exist_ok=True)\n",
        "#trainer = DefaultTrainer(cfg) \n",
        "#trainer = CustomTrainer(cfg) \n",
        "trainer = myTrainer(cfg) \n",
        "trainer.resume_or_load(resume=False)\n",
        "trainer.train()\n",
        "\n",
        "# 결과 모델은 output/model_final.pth로 남음"
      ],
      "metadata": {
        "id": "zDAPvrT-V4b0"
      },
      "id": "zDAPvrT-V4b0",
      "execution_count": null,
      "outputs": []
    },
    {
      "cell_type": "markdown",
      "source": [
        "### (선택) 학습 커브 확인"
      ],
      "metadata": {
        "id": "b6HnZgehXpUn"
      },
      "id": "b6HnZgehXpUn"
    },
    {
      "cell_type": "code",
      "source": [
        "# tensorboard를 사용해서 학습 커브를 살펴봅니다.\n",
        "%load_ext tensorboard\n",
        "%tensorboard --logdir output"
      ],
      "metadata": {
        "id": "0YBOidu3XsoF"
      },
      "id": "0YBOidu3XsoF",
      "execution_count": null,
      "outputs": []
    },
    {
      "cell_type": "markdown",
      "source": [
        "## (6.2) 학습한 모델 실행 및 평가하기\n",
        "자 이제 풍선 데이터셋의 검증(validation) 데이터셋으로 테스트를 해볼 차례입니다. \n",
        "\n",
        "우선, 방금 전 학습한 모델을 불러와서 `predictor`를 생성합니다."
      ],
      "metadata": {
        "id": "9Jf5p-ShX157"
      },
      "id": "9Jf5p-ShX157"
    },
    {
      "cell_type": "code",
      "source": [
        "cfg.MODEL.WEIGHTS = os.path.join(cfg.OUTPUT_DIR, \"model_final.pth\")\n",
        "cfg.MODEL.ROI_HEADS.SCORE_THRESH_TEST = 0.8 # set the testing threshold for this model\n",
        "cfg.DATASETS.TEST = (\"PTN_VAL\", )\n",
        "predictor = DefaultPredictor(cfg)"
      ],
      "metadata": {
        "id": "qwuI2qi7brYd"
      },
      "id": "qwuI2qi7brYd",
      "execution_count": null,
      "outputs": []
    },
    {
      "cell_type": "markdown",
      "source": [
        "## (6.3) 샘플 추출"
      ],
      "metadata": {
        "id": "ewkfj5a6bsiD"
      },
      "id": "ewkfj5a6bsiD"
    },
    {
      "cell_type": "markdown",
      "source": [
        "> 학습한 predictor에 Data Set기반으로 Segmentation 진행"
      ],
      "metadata": {
        "id": "xPxz_53aM25i"
      },
      "id": "xPxz_53aM25i"
    },
    {
      "cell_type": "code",
      "source": [
        "# 학습한 predictor에 Data Set기반으로 Segmentation 진행\n",
        "def sampleTest(d):\n",
        "  # Data Set에서 이미지 정보 추출\n",
        "  file_name = d[\"file_name\"]\n",
        "  img = cv2.imread(file_name)\n",
        "  #img = cv2.resize(img,(0,0),fx=(1/4),fy=(1/4),interpolation=cv2.INTER_AREA) # 결과 이미지 Resize -> 안하면 런타임 죽을 수도 있음\n",
        "\n",
        "  # 학습한 predictor에 이미지 넣어서 검증\n",
        "  output = predictor(img) # 랜덤하게 뽑은 이미지를 predictor로 검증\n",
        "  outputs.append(output) # 검증한 결과데이터(output) 누적하기(outputs)\n",
        "\n",
        "  # 이미지 그리기 준비\n",
        "  v = Visualizer(img[:, :, ::-1],\n",
        "                  metadata=PTN_metadata, \n",
        "                  scale=0.8, \n",
        "                  instance_mode=ColorMode.IMAGE_BW   # remove the colors of unsegmented pixels\n",
        "  )\n",
        "  v = v.draw_instance_predictions(output[\"instances\"].to(\"cpu\"))\n",
        "\n",
        "  # 이미지 그리기\n",
        "  # cv2_imshow(v.get_image()[:, :, ::-1])\n",
        "\n",
        "  # 이미지 폴더 생성\n",
        "  if not os.path.exists(\"output_Image/GCL_Image/VAL/\"):\n",
        "    os.makedirs(\"output_Image/GCL_Image/VAL/\")\n",
        "  \n",
        "  # 이미지 저장\n",
        "  cv2.imwrite(\"output_Image/\"+d[\"file_name\"], v.get_image()[:, :, ::-1])\n",
        "\n",
        "  # 검증결과 데이터 리턴\n",
        "  return outputs, file_name"
      ],
      "metadata": {
        "id": "kmLsCM3LAPcO"
      },
      "id": "kmLsCM3LAPcO",
      "execution_count": null,
      "outputs": []
    },
    {
      "cell_type": "code",
      "source": [
        "# VAL 폴더에서 Metadata Set 뽑기\n",
        "dataset_dicts = get_PTN_dicts(\"GCL_Image/VAL\")\n",
        "# Metadata Set 중에서 3개 랜덤하게 뽑아서 Segmentation한 영역 그리기(outputs)\n",
        "outputs = []\n",
        "file_names = []\n",
        "\n",
        "random_count = 10\n",
        "\n",
        "for d in random.sample(dataset_dicts, random_count):\n",
        "    outputs, file_name = sampleTest(d)\n",
        "    file_names.append(file_name)"
      ],
      "metadata": {
        "id": "SFjUmJ2zbyh7"
      },
      "id": "SFjUmJ2zbyh7",
      "execution_count": null,
      "outputs": []
    },
    {
      "cell_type": "markdown",
      "source": [
        "\n",
        "# (7) 테두리 영역 추출하기"
      ],
      "metadata": {
        "id": "fjclUZIHpYFF"
      },
      "id": "fjclUZIHpYFF"
    },
    {
      "cell_type": "markdown",
      "source": [
        "## (7.1) seg 영역 → Binary → 테두리 영역 추출"
      ],
      "metadata": {
        "id": "Ps08573UEPVA"
      },
      "id": "Ps08573UEPVA"
    },
    {
      "cell_type": "code",
      "source": [
        "# 테두리 영역진행한 이미지들[이미지번호][seg영역번호]\n",
        "outline_arrays_arrays = []\n",
        "\n",
        "# 각 이미지 별(n)\n",
        "for n in range(len(outputs)):\n",
        "  # 한 이미지 내 테두리 영역들\n",
        "  outline_arrays = []\n",
        "  output = outputs[n]['instances'] # 랜덤하게 뽑은 이미지들(outputs[n])에서 이미지 하나씩(output)\n",
        "  mask_array = output.to(\"cpu\").pred_masks.numpy() # 이미지(output) 내 seg 영역들 추출(mask_array)\n",
        "\n",
        "  height = (output.image_size)[0] # 이미지 높이\n",
        "  width = (output.image_size)[1] # 이미지 너비\n",
        "\n",
        "  # 한 이미지의 seg영역 별(m)\n",
        "  for m in range(len(mask_array)):\n",
        "    bin_array = np.zeros(shape=(height,width)) # Binaray 용(mask_array)\n",
        "    outline_array = np.zeros(shape=(height,width)) # 테두리 용(outline_array)\n",
        "\n",
        "    # seg영역(mask_array) → Binary영역(bin_array) 치환\n",
        "    for i in range(height):\n",
        "      for j in range(width):\n",
        "        if mask_array[m][i][j]:\n",
        "          bin_array[i][j] = 255\n",
        "    \n",
        "    # Binary영역(bin_array) → 테두리 추출(outline_array)\n",
        "    for p in range(height): \n",
        "      for q in range(width):\n",
        "        if bin_array[p][q] == 255:\n",
        "          # [예외처리] 이미지 위아래 끝단일 경우\n",
        "          if p == 0 or p == (height-1):\n",
        "            outline_array[p][q] = 255\n",
        "          # [예외처리] 이미지 좌우 끝단일 경우\n",
        "          elif q == 0 or q == (width-1):\n",
        "            outline_array[p][q] = 255\n",
        "          # 테두리일 경우\n",
        "          elif bin_array[p-1][q] == 0 or bin_array[p][q-1] == 0 or bin_array[p+1][q] == 0 or bin_array[p][q+1] == 0:\n",
        "            outline_array[p][q] = 255\n",
        "          # 테두리가 아닐 경우\n",
        "          else:\n",
        "            outline_array[p][q] = 0\n",
        "            \n",
        "    # cv2_imshow(outline_array) # 그려보기\n",
        "    outline_arrays.append(outline_array) # 한 이미지 내 테두리 이미지들(outline_array) 누적하기(outline_arrays)\n",
        "  \n",
        "  outline_arrays_arrays.append(outline_arrays) # 이미지들(outline_arrays) 누적하기(outline_arrays_arrays)\n",
        "    "
      ],
      "metadata": {
        "id": "xcPZyZONpXsE"
      },
      "id": "xcPZyZONpXsE",
      "execution_count": null,
      "outputs": []
    },
    {
      "cell_type": "markdown",
      "source": [
        "## (7.2) 테두리 중 직선부 중복 빼기"
      ],
      "metadata": {
        "id": "GxC6hOAp53-u"
      },
      "id": "GxC6hOAp53-u"
    },
    {
      "cell_type": "code",
      "source": [
        "deDupli_array = [] # 중복 뺀 결과 이미지들\n",
        "\n",
        "for i in range(len(outline_arrays_arrays)):\n",
        "  deDupli = [] # 중복 뺀 한 이미지\n",
        "  for j in range(len(outline_arrays_arrays[i])):\n",
        "    outline_arrays = outline_arrays_arrays[i][j] # 테두리 영역\n",
        "    \n",
        "    height = len(outline_arrays)\n",
        "    width = len(outline_arrays[0])\n",
        "\n",
        "    output_temp1 = np.zeros(shape=(height,width)) # 가로방향 중복 제거용\n",
        "    output_temp2 = np.zeros(shape=(height,width)) # 세로방향 중복 제거용\n",
        "    output = np.zeros(shape=(height,width)) # 가로/세로방향 중복 제거 후 Merge 결과물\n",
        "    \n",
        "    # [예외처리] 이미지 상부 끝단일 경우\n",
        "    for n in range(1, width):\n",
        "      if outline_arrays[0][n] == outline_arrays[0][n-1]:\n",
        "        outline_arrays[0][n] = 0\n",
        "    # [예외처리] 이미지 하부 끝단일 경우\n",
        "    for n in range(1,width):\n",
        "      if outline_arrays[height-1][n] == outline_arrays[height-1][n-1]:\n",
        "        outline_arrays[height-1][n] = 0\n",
        "    # [예외처리] 이미지 좌측 끝단일 경우\n",
        "    for n in range(1, height):\n",
        "      if outline_arrays[n][0] == outline_arrays[n-1][0]:\n",
        "        outline_arrays[n][0] = 0\n",
        "    # [예외처리] 이미지 우측 단일 경우\n",
        "    for n in range(1, height):\n",
        "      if outline_arrays[n][width-1] == outline_arrays[n][width-1]:\n",
        "        outline_arrays[n][width-1] = 0\n",
        "    \n",
        "    # 가로/세로방향 각각 중복 제거하기\n",
        "    for n in range(1, height-1):\n",
        "      for m in range(1, width-1):\n",
        "        if outline_arrays[n][m] == 255:\n",
        "          if outline_arrays[n][m] != outline_arrays[n][m-1]:\n",
        "            output_temp1[n][m] = 255\n",
        "          if outline_arrays[n][m] != outline_arrays[n][m+1]:\n",
        "            output_temp1[n][m] = 255\n",
        "          if outline_arrays[n][m] != outline_arrays[n-1][m]:\n",
        "            output_temp2[n][m] = 255\n",
        "          if outline_arrays[n][m] != outline_arrays[n+1][m]:\n",
        "            output_temp2[n][m] = 255\n",
        "    \n",
        "    # 가로/세로방향 각각 중복 제거 후 Merge하기\n",
        "    for n in range(1, height-1):\n",
        "      for m in range(1, width-1):\n",
        "        if output_temp1[n][m] == 255 and output_temp2[n][m] == 255:\n",
        "          output[n][m] = 255\n",
        "\n",
        "    # cv2_imshow(output) # 그려보기\n",
        "    deDupli.append(output) # 한 이미지 내 테두리 영역(output)\n",
        "  deDupli_array.append(deDupli) # 이미지들"
      ],
      "metadata": {
        "id": "9ggeXrqu6A-G"
      },
      "id": "9ggeXrqu6A-G",
      "execution_count": null,
      "outputs": []
    },
    {
      "cell_type": "markdown",
      "source": [
        "# (8) json으로 저장"
      ],
      "metadata": {
        "id": "LbpiVlsJVn5A"
      },
      "id": "LbpiVlsJVn5A"
    },
    {
      "cell_type": "markdown",
      "source": [
        "\n",
        "\n",
        "> json 변수에 저장\n",
        "\n"
      ],
      "metadata": {
        "id": "FRm-qFYgbhyg"
      },
      "id": "FRm-qFYgbhyg"
    },
    {
      "cell_type": "code",
      "source": [
        "Block = 0 # json에서 Block번호\n",
        "Block_Area = 0 # json에서 한 Block 내 테두리 영역별 번호\n",
        "output_json = OrderedDict() # json 변수\n",
        "\n",
        "for i in range(len(deDupli_array)):\n",
        "  deDupli = deDupli_array[i]\n",
        "  Block_Area = 0\n",
        "\n",
        "  for j in range(len(deDupli)):\n",
        "    array = deDupli[j]\n",
        "    height = len(array)\n",
        "    width = len(array[0])\n",
        "\n",
        "    points = {}\n",
        "    cnt_x = 1\n",
        "    cnt_y = 1\n",
        "\n",
        "    for n in range(height):\n",
        "      for m in range(width):\n",
        "        if array[n][m] == 255:\n",
        "          points[\"Point_x_\"+str(cnt_x)] = m\n",
        "          points[\"Point_y_\"+str(cnt_y)] = n\n",
        "          cnt_x += 1\n",
        "          cnt_y += 1\n",
        "    \n",
        "    output_json[str(file_names[i]) + '_' + 'Area#' + str(Block_Area)] = points\n",
        "    Block_Area += 1\n",
        "  Block += 1"
      ],
      "metadata": {
        "id": "2L91-6JCA18g"
      },
      "id": "2L91-6JCA18g",
      "execution_count": null,
      "outputs": []
    },
    {
      "cell_type": "code",
      "source": [
        "print(json.dumps(output_json,indent='\\t'))"
      ],
      "metadata": {
        "id": "q0DVe2W3asD6"
      },
      "id": "q0DVe2W3asD6",
      "execution_count": null,
      "outputs": []
    },
    {
      "cell_type": "markdown",
      "source": [
        "> json 파일에 저장"
      ],
      "metadata": {
        "id": "jGlDzl1Ubc_c"
      },
      "id": "jGlDzl1Ubc_c"
    },
    {
      "cell_type": "code",
      "source": [
        "with open(\"Points.json\", 'w') as file:\n",
        "    json.dump(output_json,file,indent='\\t')"
      ],
      "metadata": {
        "id": "U2hfqHQZbgtE"
      },
      "id": "U2hfqHQZbgtE",
      "execution_count": null,
      "outputs": []
    },
    {
      "cell_type": "markdown",
      "source": [
        "# (9) [초기화] 이미지폴더 / Points.json 삭제"
      ],
      "metadata": {
        "id": "AlPvCwGyra-d"
      },
      "id": "AlPvCwGyra-d"
    },
    {
      "cell_type": "code",
      "source": [
        "import shutil\n",
        "shutil.rmtree('output_Image')\n",
        "os.remove('Points.json')"
      ],
      "metadata": {
        "id": "ytW2aY11rV41"
      },
      "id": "ytW2aY11rV41",
      "execution_count": null,
      "outputs": []
    }
  ],
  "metadata": {
    "kernelspec": {
      "display_name": "Python 3 (ipykernel)",
      "language": "python",
      "name": "python3"
    },
    "language_info": {
      "codemirror_mode": {
        "name": "ipython",
        "version": 3
      },
      "file_extension": ".py",
      "mimetype": "text/x-python",
      "name": "python",
      "nbconvert_exporter": "python",
      "pygments_lexer": "ipython3",
      "version": "3.9.12"
    },
    "toc": {
      "base_numbering": 1,
      "nav_menu": {},
      "number_sections": true,
      "sideBar": true,
      "skip_h1_title": false,
      "title_cell": "Table of Contents",
      "title_sidebar": "Contents",
      "toc_cell": false,
      "toc_position": {},
      "toc_section_display": true,
      "toc_window_display": false
    },
    "colab": {
      "provenance": []
    },
    "accelerator": "GPU"
  },
  "nbformat": 4,
  "nbformat_minor": 5
}