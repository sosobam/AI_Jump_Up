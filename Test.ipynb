{
 "cells": [
  {
   "cell_type": "code",
   "execution_count": null,
   "id": "9758c3ac",
   "metadata": {},
   "outputs": [],
   "source": [
    "# 종속 패키지(dependencies) 설치\n",
    "!pip install -U torch torchvision cython\n",
    "!pip install -U 'git+https://github.com/facebookresearch/fvcore.git' 'git+https://github.com/cocodataset/cocoapi.git#subdirectory=PythonAPI'\n",
    "import torch, torchvision\n",
    "torch.__version__\n",
    "\n",
    "!git clone https://github.com/facebookresearch/detectron2 detectron2_repo\n",
    "!pip install -e detectron2_repo"
   ]
  },
  {
   "cell_type": "code",
   "execution_count": null,
   "id": "e29e50ef",
   "metadata": {},
   "outputs": [],
   "source": [
    "# 인스톨이 완료되면 Colab Runtime을 다시 시작해주세요. \n",
    "\n",
    "# 기본 설정\n",
    "import os\n",
    "import numpy as np\n",
    "import json\n",
    "from detectron2.structures import BoxMode\n",
    "import itertools\n",
    "\n",
    "# detectron2 logger 설정\n",
    "import detectron2\n",
    "from detectron2.utils.logger import setup_logger\n",
    "setup_logger()\n",
    "\n",
    "# 자주 사용하는 라이브러리 임폴트\n",
    "import numpy as np\n",
    "import cv2\n",
    "import random\n",
    "from google.colab.patches import cv2_imshow\n",
    "\n",
    "# 자주 사용하는 detectron2 유틸 임폴트 \n",
    "from detectron2.engine import DefaultPredictor\n",
    "from detectron2.config import get_cfg\n",
    "from detectron2.utils.visualizer import Visualizer\n",
    "from detectron2.data import MetadataCatalog"
   ]
  },
  {
   "cell_type": "code",
   "execution_count": null,
   "id": "3918b6e8",
   "metadata": {},
   "outputs": [],
   "source": [
    "!git clone https://github.com/sosobam/AI_Jump_up.git"
   ]
  },
  {
   "cell_type": "code",
   "execution_count": null,
   "id": "4fa0c707",
   "metadata": {},
   "outputs": [],
   "source": [
    "# detectron2에서 데이터셋 정보를 로드하는 형식에 맞춰 함수를 작성합니다.\n",
    "def get_PTN_dicts(img_dir):\n",
    "    json_file = os.path.join(img_dir, \"annotations.json\")\n",
    "    with open(json_file) as f:\n",
    "        imgs_anns = json.load(f)\n",
    "\n",
    "    dataset_dicts = []\n",
    "    \n",
    "    idx = 0\n",
    "    #for idx, v in enumerate(imgs_anns.values()):\n",
    "    for key, val in imgs_anns.items():\n",
    "        record = {}\n",
    "        \n",
    "        #filename = os.path.join(img_dir, v[\"filename\"])\n",
    "        filename = os.path.join(img_dir, key)\n",
    "        height, width = cv2.imread(filename).shape[:2]\n",
    "        \n",
    "        record[\"file_name\"] = filename\n",
    "        record[\"image_id\"] = idx\n",
    "        record[\"height\"] = height\n",
    "        record[\"width\"] = width\n",
    "      \n",
    "        #annos = v[\"regions\"]\n",
    "        annos = val[\"instances\"]\n",
    "        objs = []\n",
    "        #for _, anno in annos.items():\n",
    "        for anno in annos:\n",
    "            #assert not anno[\"region_attributes\"]\n",
    "            #anno = anno[\"shape_attributes\"]\n",
    "            #px = anno[\"all_points_x\"]\n",
    "            #py = anno[\"all_points_y\"]\n",
    "            points = anno[\"points\"]\n",
    "            px = []\n",
    "            py = []\n",
    "\n",
    "            for i in range(0,int(len(points)/2)):\n",
    "              px = px + [points[i*2]]\n",
    "              py = px + [points[i*2+1]]\n",
    "\n",
    "            poly = [(x + 0.5, y + 0.5) for x, y in zip(px, py)]\n",
    "            poly = list(itertools.chain.from_iterable(poly))\n",
    "\n",
    "            obj = {\n",
    "                \"bbox\": [np.min(px), np.min(py), np.max(px), np.max(py)],\n",
    "                \"bbox_mode\": BoxMode.XYXY_ABS,\n",
    "                \"segmentation\": [poly],\n",
    "                \"category_id\": 0,\n",
    "                \"iscrowd\": 0\n",
    "            }\n",
    "            objs.append(obj)\n",
    "        record[\"annotations\"] = objs\n",
    "        dataset_dicts.append(record)\n",
    "    return dataset_dicts"
   ]
  },
  {
   "cell_type": "code",
   "execution_count": null,
   "id": "b4e181cb",
   "metadata": {},
   "outputs": [],
   "source": [
    "from detectron2.data import DatasetCatalog, MetadataCatalog\n",
    "for d in [\"train\", \"val\"]:\n",
    "    DatasetCatalog.register(\"PTN_\" + d, lambda d=d: get_PTN_dicts(d))\n",
    "    MetadataCatalog.get(\"PTN_\" + d).set(thing_classes=[\"PTN\"])\n",
    "balloon_metadata = MetadataCatalog.get(\"PTN_train\")"
   ]
  },
  {
   "cell_type": "code",
   "execution_count": null,
   "id": "13e22bdc",
   "metadata": {},
   "outputs": [],
   "source": [
    "# 데이터가 제대로 로드되었는지 확인\n",
    "dataset_dicts = get_PTN_dicts(\"AI_Jump_up/TRAIN\")\n",
    "for d in random.sample(dataset_dicts, 3):\n",
    "    img = cv2.imread(d[\"file_name\"])\n",
    "    visualizer = Visualizer(img[:, :, ::-1], metadata=balloon_metadata, scale=0.5)\n",
    "    vis = visualizer.draw_dataset_dict(d)\n",
    "    cv2_imshow(vis.get_image()[:, :, ::-1])"
   ]
  }
 ],
 "metadata": {
  "colab": {
   "provenance": []
  },
  "kernelspec": {
   "display_name": "Python 3 (ipykernel)",
   "language": "python",
   "name": "python3"
  },
  "language_info": {
   "codemirror_mode": {
    "name": "ipython",
    "version": 3
   },
   "file_extension": ".py",
   "mimetype": "text/x-python",
   "name": "python",
   "nbconvert_exporter": "python",
   "pygments_lexer": "ipython3",
   "version": "3.9.12"
  },
  "toc": {
   "base_numbering": 1,
   "nav_menu": {},
   "number_sections": true,
   "sideBar": true,
   "skip_h1_title": false,
   "title_cell": "Table of Contents",
   "title_sidebar": "Contents",
   "toc_cell": false,
   "toc_position": {},
   "toc_section_display": true,
   "toc_window_display": false
  }
 },
 "nbformat": 4,
 "nbformat_minor": 5
}
