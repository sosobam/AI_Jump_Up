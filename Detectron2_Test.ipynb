{
  "cells": [
    {
      "cell_type": "code",
      "execution_count": null,
      "id": "689575e8",
      "metadata": {
        "id": "689575e8"
      },
      "outputs": [],
      "source": [
        "# 종속 패키지(dependencies) 설치(pytorch, detectron2)\n",
        "!pip install -U torch torchvision cython\n",
        "!pip install -U 'git+https://github.com/facebookresearch/fvcore.git' 'git+https://github.com/cocodataset/cocoapi.git#subdirectory=PythonAPI'\n",
        "import torch, torchvision\n",
        "torch.__version__\n",
        "\n",
        "!git clone https://github.com/facebookresearch/detectron2 detectron2_repo\n",
        "!pip install -e detectron2_repo"
      ]
    },
    {
      "cell_type": "code",
      "execution_count": 1,
      "id": "1134cdea",
      "metadata": {
        "id": "1134cdea"
      },
      "outputs": [],
      "source": [
        "# 인스톨이 완료되면 Colab Runtime을 다시 시작해주세요. \n",
        "\n",
        "# 기본 설정\n",
        "import os\n",
        "import numpy as np\n",
        "import json\n",
        "from detectron2.structures import BoxMode\n",
        "import itertools\n",
        "\n",
        "# detectron2 logger 설정\n",
        "import detectron2\n",
        "from detectron2.utils.logger import setup_logger\n",
        "setup_logger()\n",
        "\n",
        "# 자주 사용하는 라이브러리 임폴트\n",
        "import numpy as np\n",
        "import cv2\n",
        "import random\n",
        "from google.colab.patches import cv2_imshow\n",
        "\n",
        "# 자주 사용하는 detectron2 유틸 임폴트 \n",
        "from detectron2.engine import DefaultPredictor\n",
        "from detectron2.config import get_cfg\n",
        "from detectron2.utils.visualizer import Visualizer\n",
        "from detectron2.data import MetadataCatalog\n",
        "from detectron2.data import DatasetCatalog, MetadataCatalog"
      ]
    },
    {
      "cell_type": "code",
      "execution_count": 2,
      "id": "fa7d124e",
      "metadata": {
        "colab": {
          "base_uri": "https://localhost:8080/"
        },
        "id": "fa7d124e",
        "outputId": "5cb786cc-43c3-43ed-f628-58ea8f918cc5"
      },
      "outputs": [
        {
          "output_type": "stream",
          "name": "stdout",
          "text": [
            "Cloning into 'AI_Jump_up'...\n",
            "remote: Enumerating objects: 88, done.\u001b[K\n",
            "remote: Counting objects:   4% (1/23)\u001b[K\rremote: Counting objects:   8% (2/23)\u001b[K\rremote: Counting objects:  13% (3/23)\u001b[K\rremote: Counting objects:  17% (4/23)\u001b[K\rremote: Counting objects:  21% (5/23)\u001b[K\rremote: Counting objects:  26% (6/23)\u001b[K\rremote: Counting objects:  30% (7/23)\u001b[K\rremote: Counting objects:  34% (8/23)\u001b[K\rremote: Counting objects:  39% (9/23)\u001b[K\rremote: Counting objects:  43% (10/23)\u001b[K\rremote: Counting objects:  47% (11/23)\u001b[K\rremote: Counting objects:  52% (12/23)\u001b[K\rremote: Counting objects:  56% (13/23)\u001b[K\rremote: Counting objects:  60% (14/23)\u001b[K\rremote: Counting objects:  65% (15/23)\u001b[K\rremote: Counting objects:  69% (16/23)\u001b[K\rremote: Counting objects:  73% (17/23)\u001b[K\rremote: Counting objects:  78% (18/23)\u001b[K\rremote: Counting objects:  82% (19/23)\u001b[K\rremote: Counting objects:  86% (20/23)\u001b[K\rremote: Counting objects:  91% (21/23)\u001b[K\rremote: Counting objects:  95% (22/23)\u001b[K\rremote: Counting objects: 100% (23/23)\u001b[K\rremote: Counting objects: 100% (23/23), done.\u001b[K\n",
            "remote: Compressing objects: 100% (20/20), done.\u001b[K\n",
            "remote: Total 88 (delta 6), reused 11 (delta 3), pack-reused 65\u001b[K\n",
            "Unpacking objects: 100% (88/88), done.\n",
            "Checking out files: 100% (61/61), done.\n"
          ]
        }
      ],
      "source": [
        "!git clone https://github.com/sosobam/AI_Jump_up.git"
      ]
    },
    {
      "cell_type": "code",
      "execution_count": null,
      "id": "48db5cf3",
      "metadata": {
        "id": "48db5cf3"
      },
      "outputs": [],
      "source": [
        "# detectron2에서 데이터셋 정보를 로드하는 형식에 맞춰 함수를 작성합니다.\n",
        "def get_PTN_dicts(img_dir):\n",
        "    json_file = os.path.join(img_dir, \"annotations.json\")\n",
        "    with open(json_file) as f:\n",
        "        imgs_anns = json.load(f)\n",
        "\n",
        "    # 최종 결과물\n",
        "    dataset_dicts = []\n",
        "    \n",
        "    idx = 0\n",
        "    # 이미지들을 annotation한 json에서 이미지별로 하나씩 데이터 뽑아서 record에 저장(key : 이미지file.jpg, val : seg데이터)\n",
        "    for key, val in imgs_anns.items():\n",
        "        record = {} # 각 이미지별 정보 담을 dataset 포맷\n",
        "        \n",
        "        filename = os.path.join(img_dir, key) # 이미지file 경로\n",
        "        height, width = cv2.imread(filename).shape[:2] # 이미지file 경로로 cv2로 이미지 열어서 height, width 추출\n",
        "        \n",
        "        # 이미지 기본정보\n",
        "        record[\"file_name\"] = filename\n",
        "        record[\"image_id\"] = idx\n",
        "        record[\"height\"] = height\n",
        "        record[\"width\"] = width\n",
        "      \n",
        "        annos = val[\"instances\"]\n",
        "        objs = []\n",
        "\n",
        "        # 이미지 기본정보 중 annotation_class별로 point들(x,y,x,y,x,y,...x,y순서) 뽑아서 obj에 담고 objs에 class별로 누적 후 record[\"annotations\"]에 최종 저장\n",
        "        for anno in annos:\n",
        "            points = anno[\"points\"]\n",
        "            px = []\n",
        "            py = []\n",
        "\n",
        "            # point들(x,y,x,y,x,y,...x,y순서) 뽑아서 px, py로 각각 list 생성\n",
        "            for i in range(0,int(len(points)/2)):\n",
        "              px = px + [points[i*2]] # 짝수\n",
        "              py = px + [points[i*2+1]] # 홀수\n",
        "\n",
        "            # px, py list를 poly에 (x,y)형태로 묶어서 다시 list화\n",
        "            poly = [(x + 0.5, y + 0.5) for x, y in zip(px, py)]\n",
        "            poly = list(itertools.chain.from_iterable(poly))\n",
        "\n",
        "            # obj dict에 (x,y)list를 토대로 Box만들고 list 등록\n",
        "            obj = {\n",
        "                \"bbox\": [np.min(px), np.min(py), np.max(px), np.max(py)],\n",
        "                \"bbox_mode\": BoxMode.XYXY_ABS,\n",
        "                \"segmentation\": [poly],\n",
        "                \"category_id\": 0,\n",
        "                \"iscrowd\": 0\n",
        "            }\n",
        "            objs.append(obj) # obj를 objs에 누적\n",
        "        record[\"annotations\"] = objs # objs를 record[\"annotations\"]에 등록\n",
        "        dataset_dicts.append(record) # record를 dataset에 누적\n",
        "    return dataset_dicts"
      ]
    },
    {
      "cell_type": "code",
      "execution_count": null,
      "id": "6f8f88c3",
      "metadata": {
        "id": "6f8f88c3"
      },
      "outputs": [],
      "source": [
        "# train, val 이미지들을 metadata set에 등록\n",
        "for d in [\"train\", \"val\"]:\n",
        "    DatasetCatalog.register(\"PTN_\" + d, lambda d=d: get_PTN_dicts(d))\n",
        "    MetadataCatalog.get(\"PTN_\" + d).set(thing_classes=[\"PTN\"])\n",
        "balloon_metadata = MetadataCatalog.get(\"PTN_train\")"
      ]
    },
    {
      "cell_type": "code",
      "execution_count": null,
      "id": "8d3b7ba6",
      "metadata": {
        "id": "8d3b7ba6"
      },
      "outputs": [],
      "source": [
        "# 데이터가 제대로 로드되었는지 확인\n",
        "dataset_dicts = get_PTN_dicts(\"AI_Jump_up/TRAIN\")\n",
        "for d in random.sample(dataset_dicts, 3):\n",
        "    img = cv2.imread(d[\"file_name\"])\n",
        "    visualizer = Visualizer(img[:, :, ::-1], metadata=balloon_metadata, scale=0.5)\n",
        "    vis = visualizer.draw_dataset_dict(d)\n",
        "    cv2_imshow(vis.get_image()[:, :, ::-1])"
      ]
    }
  ],
  "metadata": {
    "kernelspec": {
      "display_name": "Python 3 (ipykernel)",
      "language": "python",
      "name": "python3"
    },
    "language_info": {
      "codemirror_mode": {
        "name": "ipython",
        "version": 3
      },
      "file_extension": ".py",
      "mimetype": "text/x-python",
      "name": "python",
      "nbconvert_exporter": "python",
      "pygments_lexer": "ipython3",
      "version": "3.9.12"
    },
    "toc": {
      "base_numbering": 1,
      "nav_menu": {},
      "number_sections": true,
      "sideBar": true,
      "skip_h1_title": false,
      "title_cell": "Table of Contents",
      "title_sidebar": "Contents",
      "toc_cell": false,
      "toc_position": {},
      "toc_section_display": true,
      "toc_window_display": false
    },
    "colab": {
      "provenance": []
    }
  },
  "nbformat": 4,
  "nbformat_minor": 5
}